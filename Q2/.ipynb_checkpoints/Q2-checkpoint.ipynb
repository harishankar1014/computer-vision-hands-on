{
 "cells": [
  {
   "cell_type": "code",
   "execution_count": 1,
   "id": "cd32156f",
   "metadata": {},
   "outputs": [],
   "source": [
    "#Edge detection \n",
    "import cv2"
   ]
  },
  {
   "cell_type": "code",
   "execution_count": 35,
   "id": "bb1169d8",
   "metadata": {},
   "outputs": [
    {
     "data": {
      "text/plain": [
       "-1"
      ]
     },
     "execution_count": 35,
     "metadata": {},
     "output_type": "execute_result"
    }
   ],
   "source": [
    "img = cv2.imread(\"dataset/photo1.jpeg\")\n",
    "img2 = cv2.imread(\"dataset/photo2.jpeg\")\n",
    "img3 = cv2.imread(\"dataset/photo3.jpeg\")\n",
    "cv2.imshow('Original',img)\n",
    "cv2.waitKey(0)\n",
    "cv2.imshow('Original',img2)\n",
    "cv2.waitKey(0)\n",
    "cv2.imshow('Original',img3)\n",
    "cv2.waitKey(0)"
   ]
  },
  {
   "cell_type": "code",
   "execution_count": 38,
   "id": "43ecb54b",
   "metadata": {},
   "outputs": [],
   "source": [
    "#image 1 gray scale and blur\n",
    "img_gray = cv2.cvtColor(img,cv2.COLOR_BGR2GRAY)\n",
    "img_blur = cv2.GaussianBlur(img_gray,(3,3),0)\n",
    "\n",
    "#image 2 gray scale and blur\n",
    "img_gray2 = cv2.cvtColor(img2,cv2.COLOR_BGR2GRAY)\n",
    "img_blur2 = cv2.GaussianBlur(img_gray2,(3,3),0)\n",
    "\n",
    "#image 3 gray scale and blur\n",
    "img_gray3 = cv2.cvtColor(img3,cv2.COLOR_BGR2GRAY)\n",
    "img_blur3 = cv2.GaussianBlur(img_gray3,(3,3),0)"
   ]
  },
  {
   "cell_type": "code",
   "execution_count": 13,
   "id": "7fd96798",
   "metadata": {},
   "outputs": [
    {
     "data": {
      "text/plain": [
       "-1"
      ]
     },
     "execution_count": 13,
     "metadata": {},
     "output_type": "execute_result"
    }
   ],
   "source": [
    "cv2.imshow('Gray',img_gray)\n",
    "cv2.waitKey(0)"
   ]
  },
  {
   "cell_type": "code",
   "execution_count": 14,
   "id": "1dcf5ee1",
   "metadata": {},
   "outputs": [
    {
     "data": {
      "text/plain": [
       "-1"
      ]
     },
     "execution_count": 14,
     "metadata": {},
     "output_type": "execute_result"
    }
   ],
   "source": [
    "cv2.imshow('Blur',img_blur)\n",
    "cv2.waitKey(0)"
   ]
  },
  {
   "cell_type": "code",
   "execution_count": 36,
   "id": "19f3d87e",
   "metadata": {},
   "outputs": [],
   "source": [
    "#Sobel edge detection image 1\n",
    "sobelx = cv2.Sobel(src=img_blur, ddepth=cv2.CV_64F, dx=1, dy=0, ksize=5)\n",
    "sobely = cv2.Sobel(src=img_blur, ddepth=cv2.CV_64F, dx=0, dy=1, ksize=5)\n",
    "sobelxy = cv2.Sobel(src=img_blur, ddepth=cv2.CV_64F, dx=1, dy=1, ksize=5)"
   ]
  },
  {
   "cell_type": "code",
   "execution_count": 39,
   "id": "21b81066",
   "metadata": {},
   "outputs": [],
   "source": [
    "#Sobel edge detection image 2\n",
    "sobelx2 = cv2.Sobel(src=img_blur2, ddepth=cv2.CV_64F, dx=1, dy=0, ksize=5)\n",
    "sobely2 = cv2.Sobel(src=img_blur2, ddepth=cv2.CV_64F, dx=0, dy=1, ksize=5)\n",
    "sobelxy2 = cv2.Sobel(src=img_blur2, ddepth=cv2.CV_64F, dx=1, dy=1, ksize=5)"
   ]
  },
  {
   "cell_type": "code",
   "execution_count": 40,
   "id": "07672985",
   "metadata": {},
   "outputs": [],
   "source": [
    "#Sobel edge detection image 3\n",
    "sobelx3 = cv2.Sobel(src=img_blur3, ddepth=cv2.CV_64F, dx=1, dy=0, ksize=5)\n",
    "sobely3 = cv2.Sobel(src=img_blur3, ddepth=cv2.CV_64F, dx=0, dy=1, ksize=5)\n",
    "sobelxy3 = cv2.Sobel(src=img_blur3, ddepth=cv2.CV_64F, dx=1, dy=1, ksize=5)"
   ]
  },
  {
   "cell_type": "code",
   "execution_count": 16,
   "id": "7074ff8a",
   "metadata": {},
   "outputs": [
    {
     "data": {
      "text/plain": [
       "-1"
      ]
     },
     "execution_count": 16,
     "metadata": {},
     "output_type": "execute_result"
    }
   ],
   "source": [
    "#Sobel X image 1\n",
    "cv2.imshow('Sobel X', sobelx)\n",
    "cv2.waitKey(0)"
   ]
  },
  {
   "cell_type": "code",
   "execution_count": 41,
   "id": "133a5d84",
   "metadata": {},
   "outputs": [
    {
     "data": {
      "text/plain": [
       "-1"
      ]
     },
     "execution_count": 41,
     "metadata": {},
     "output_type": "execute_result"
    }
   ],
   "source": [
    "#Sobel Y image 1\n",
    "cv2.imshow('Sobel Y', sobely)\n",
    "cv2.waitKey(0)"
   ]
  },
  {
   "cell_type": "code",
   "execution_count": 42,
   "id": "d287d2ae",
   "metadata": {},
   "outputs": [
    {
     "data": {
      "text/plain": [
       "-1"
      ]
     },
     "execution_count": 42,
     "metadata": {},
     "output_type": "execute_result"
    }
   ],
   "source": [
    "#Sobel XY image 1 \n",
    "cv2.imshow('Sobel X Y', sobelxy)\n",
    "cv2.waitKey(0)"
   ]
  },
  {
   "cell_type": "code",
   "execution_count": 43,
   "id": "825c0168",
   "metadata": {},
   "outputs": [
    {
     "data": {
      "text/plain": [
       "-1"
      ]
     },
     "execution_count": 43,
     "metadata": {},
     "output_type": "execute_result"
    }
   ],
   "source": [
    "#Sobel X image 2\n",
    "cv2.imshow('Sobel X', sobelx2)\n",
    "cv2.waitKey(0)"
   ]
  },
  {
   "cell_type": "code",
   "execution_count": 44,
   "id": "cf497760",
   "metadata": {},
   "outputs": [
    {
     "data": {
      "text/plain": [
       "-1"
      ]
     },
     "execution_count": 44,
     "metadata": {},
     "output_type": "execute_result"
    }
   ],
   "source": [
    "#Sobel Y image 2\n",
    "cv2.imshow('Sobel Y', sobely2)\n",
    "cv2.waitKey(0)"
   ]
  },
  {
   "cell_type": "code",
   "execution_count": 45,
   "id": "d80023f6",
   "metadata": {},
   "outputs": [
    {
     "data": {
      "text/plain": [
       "-1"
      ]
     },
     "execution_count": 45,
     "metadata": {},
     "output_type": "execute_result"
    }
   ],
   "source": [
    "#Sobel XY image 2 \n",
    "cv2.imshow('Sobel X Y', sobelxy2)\n",
    "cv2.waitKey(0)"
   ]
  },
  {
   "cell_type": "code",
   "execution_count": 46,
   "id": "f95ee263",
   "metadata": {},
   "outputs": [
    {
     "data": {
      "text/plain": [
       "-1"
      ]
     },
     "execution_count": 46,
     "metadata": {},
     "output_type": "execute_result"
    }
   ],
   "source": [
    "#Sobel X image 3\n",
    "cv2.imshow('Sobel X', sobelx3)\n",
    "cv2.waitKey(0)"
   ]
  },
  {
   "cell_type": "code",
   "execution_count": 47,
   "id": "00060b72",
   "metadata": {},
   "outputs": [
    {
     "data": {
      "text/plain": [
       "-1"
      ]
     },
     "execution_count": 47,
     "metadata": {},
     "output_type": "execute_result"
    }
   ],
   "source": [
    "#Sobel Y image 3\n",
    "cv2.imshow('Sobel Y', sobely3)\n",
    "cv2.waitKey(0)"
   ]
  },
  {
   "cell_type": "code",
   "execution_count": 48,
   "id": "d9037e3d",
   "metadata": {},
   "outputs": [
    {
     "data": {
      "text/plain": [
       "-1"
      ]
     },
     "execution_count": 48,
     "metadata": {},
     "output_type": "execute_result"
    }
   ],
   "source": [
    "#Sobel XY image 2 \n",
    "cv2.imshow('Sobel X Y', sobelxy3)\n",
    "cv2.waitKey(0)"
   ]
  },
  {
   "cell_type": "code",
   "execution_count": 50,
   "id": "2d4ea581",
   "metadata": {},
   "outputs": [],
   "source": [
    "#Canny edge detection\n",
    "#image 1 edge detection\n",
    "edges = cv2.Canny(image=img_blur, threshold1=100, threshold2=200)\n",
    "#image 2 edge detection\n",
    "edges2 = cv2.Canny(image=img_blur2, threshold1=100, threshold2=200)\n",
    "#image 3 edge detection\n",
    "edges3 = cv2.Canny(image=img_blur3, threshold1=100, threshold2=200)"
   ]
  },
  {
   "cell_type": "code",
   "execution_count": 20,
   "id": "a5491844",
   "metadata": {},
   "outputs": [],
   "source": [
    "#test\n",
    "# edges = cv2.Canny(image=img, threshold1=100, threshold2=200)"
   ]
  },
  {
   "cell_type": "code",
   "execution_count": 51,
   "id": "e62d5630",
   "metadata": {},
   "outputs": [
    {
     "data": {
      "text/plain": [
       "-1"
      ]
     },
     "execution_count": 51,
     "metadata": {},
     "output_type": "execute_result"
    }
   ],
   "source": [
    "#image 1 edge detection\n",
    "cv2.imshow('Canny Edge Detection', edges)\n",
    "cv2.waitKey(0)"
   ]
  },
  {
   "cell_type": "code",
   "execution_count": 52,
   "id": "954d4f26",
   "metadata": {},
   "outputs": [
    {
     "data": {
      "text/plain": [
       "-1"
      ]
     },
     "execution_count": 52,
     "metadata": {},
     "output_type": "execute_result"
    }
   ],
   "source": [
    "#image 2 edge detection\n",
    "cv2.imshow('Canny Edge Detection', edges2)\n",
    "cv2.waitKey(0)"
   ]
  },
  {
   "cell_type": "code",
   "execution_count": 53,
   "id": "7b51dd8c",
   "metadata": {},
   "outputs": [
    {
     "data": {
      "text/plain": [
       "-1"
      ]
     },
     "execution_count": 53,
     "metadata": {},
     "output_type": "execute_result"
    }
   ],
   "source": [
    "#image 3 edge detection\n",
    "cv2.imshow('Canny Edge Detection', edges3)\n",
    "cv2.waitKey(0)"
   ]
  },
  {
   "cell_type": "code",
   "execution_count": 19,
   "id": "ae54c637",
   "metadata": {},
   "outputs": [],
   "source": [
    "cv2.destroyAllWindows()"
   ]
  },
  {
   "cell_type": "code",
   "execution_count": null,
   "id": "b87bb9a1",
   "metadata": {},
   "outputs": [],
   "source": [
    "#Reference = https://learnopencv.com/edge-detection-using-opencv/"
   ]
  },
  {
   "cell_type": "code",
   "execution_count": null,
   "id": "85015728",
   "metadata": {},
   "outputs": [],
   "source": []
  },
  {
   "cell_type": "code",
   "execution_count": 58,
   "id": "52d699b0",
   "metadata": {},
   "outputs": [],
   "source": [
    "#Corner detection \n",
    "import numpy as np\n",
    "import cv2 as cv"
   ]
  },
  {
   "cell_type": "code",
   "execution_count": 59,
   "id": "fe0e6812",
   "metadata": {},
   "outputs": [],
   "source": [
    "img = cv.imread(\"dataset/photo1.jpeg\")\n",
    "img2 = cv.imread(\"dataset/photo2.jpeg\")\n",
    "img3 = cv.imread(\"dataset/photo3.jpeg\")\n",
    "gray = cv.cvtColor(img,cv.COLOR_BGR2GRAY)\n",
    "gray2 = cv.cvtColor(img2,cv.COLOR_BGR2GRAY)\n",
    "gray3 = cv.cvtColor(img3,cv.COLOR_BGR2GRAY)"
   ]
  },
  {
   "cell_type": "code",
   "execution_count": 55,
   "id": "a45a673b",
   "metadata": {},
   "outputs": [
    {
     "data": {
      "text/plain": [
       "array([[195, 195, 195, ..., 142, 144, 146],\n",
       "       [195, 195, 195, ..., 143, 145, 146],\n",
       "       [195, 195, 195, ..., 144, 145, 146],\n",
       "       ...,\n",
       "       [ 56,  55,  53, ..., 114, 114, 114],\n",
       "       [ 55,  53,  51, ..., 112, 112, 112],\n",
       "       [ 54,  52,  50, ..., 111, 111, 111]], dtype=uint8)"
      ]
     },
     "execution_count": 55,
     "metadata": {},
     "output_type": "execute_result"
    }
   ],
   "source": [
    "gray"
   ]
  },
  {
   "cell_type": "code",
   "execution_count": 60,
   "id": "66629621",
   "metadata": {},
   "outputs": [],
   "source": [
    "# gray = np.float32(gray)\n",
    "dst = cv.cornerHarris(gray,2,3,0.04)\n",
    "dst2 = cv.cornerHarris(gray2,2,3,0.04)\n",
    "dst3 = cv.cornerHarris(gray3,2,3,0.04)"
   ]
  },
  {
   "cell_type": "code",
   "execution_count": 61,
   "id": "2257f194",
   "metadata": {},
   "outputs": [],
   "source": [
    "dst = cv.dilate(dst,None)\n",
    "img[dst>0.01*dst.max()]=[0,0,255]\n",
    "\n",
    "dst2 = cv.dilate(dst2,None)\n",
    "img2[dst2>0.01*dst2.max()]=[0,0,255]\n",
    "\n",
    "dst3 = cv.dilate(dst3,None)\n",
    "img3[dst3>0.01*dst3.max()]=[0,0,255]"
   ]
  },
  {
   "cell_type": "code",
   "execution_count": 62,
   "id": "ae6d7f74",
   "metadata": {},
   "outputs": [],
   "source": [
    "cv.imshow('dst',img)\n",
    "if cv.waitKey(0) & 0xff == 27:\n",
    "    cv.destroyAllWindows()"
   ]
  },
  {
   "cell_type": "code",
   "execution_count": 63,
   "id": "7241c0a2",
   "metadata": {},
   "outputs": [],
   "source": [
    "cv.imshow('dst 2',img2)\n",
    "if cv.waitKey(0) & 0xff == 27:\n",
    "    cv.destroyAllWindows()"
   ]
  },
  {
   "cell_type": "code",
   "execution_count": 64,
   "id": "96aa5984",
   "metadata": {},
   "outputs": [],
   "source": [
    "cv.imshow('dst 3',img3)\n",
    "if cv.waitKey(0) & 0xff == 27:\n",
    "    cv.destroyAllWindows()"
   ]
  },
  {
   "cell_type": "code",
   "execution_count": null,
   "id": "3989b0da",
   "metadata": {},
   "outputs": [],
   "source": [
    "#Reference : https://docs.opencv.org/3.4/dc/d0d/tutorial_py_features_harris.html"
   ]
  },
  {
   "cell_type": "code",
   "execution_count": null,
   "id": "eb8e3613",
   "metadata": {},
   "outputs": [],
   "source": []
  },
  {
   "cell_type": "code",
   "execution_count": 65,
   "id": "a4c137c6",
   "metadata": {},
   "outputs": [],
   "source": [
    "#Line detection\n",
    "import sys\n",
    "import math\n",
    "import cv2 as cv\n",
    "import numpy as np"
   ]
  },
  {
   "cell_type": "code",
   "execution_count": 72,
   "id": "3cac6e43",
   "metadata": {},
   "outputs": [],
   "source": [
    "#image 1\n",
    "src = cv.imread(cv.samples.findFile(\"dataset/photo1.jpeg\"), cv.IMREAD_GRAYSCALE)\n",
    "dst = cv.Canny(src, 50, 200, None, 3)\n",
    "\n",
    "#image 2\n",
    "src2 = cv.imread(cv.samples.findFile(\"dataset/photo2.jpeg\"), cv.IMREAD_GRAYSCALE)\n",
    "dst2 = cv.Canny(src2, 50, 200, None, 3)\n",
    "\n",
    "#image 3\n",
    "src3 = cv.imread(cv.samples.findFile(\"dataset/photo3.jpeg\"), cv.IMREAD_GRAYSCALE)\n",
    "dst3 = cv.Canny(src2, 50, 200, None, 3)"
   ]
  },
  {
   "cell_type": "code",
   "execution_count": 73,
   "id": "ba6765d8",
   "metadata": {},
   "outputs": [],
   "source": [
    "cdst = cv.cvtColor(dst, cv.COLOR_GRAY2BGR)\n",
    "cdstP = np.copy(cdst)\n",
    "\n",
    "cdst2 = cv.cvtColor(dst2, cv.COLOR_GRAY2BGR)\n",
    "cdstP2 = np.copy(cdst2)\n",
    "\n",
    "cdst3 = cv.cvtColor(dst3, cv.COLOR_GRAY2BGR)\n",
    "cdstP3 = np.copy(cdst3)"
   ]
  },
  {
   "cell_type": "code",
   "execution_count": 74,
   "id": "10c1f6ac",
   "metadata": {},
   "outputs": [],
   "source": [
    "lines = cv.HoughLines(dst, 1, np.pi / 180, 150, None, 0, 0)\n",
    "lines2 = cv.HoughLines(dst2, 1, np.pi / 180, 150, None, 0, 0)\n",
    "lines3 = cv.HoughLines(dst3, 1, np.pi / 180, 150, None, 0, 0)"
   ]
  },
  {
   "cell_type": "code",
   "execution_count": 75,
   "id": "027c314a",
   "metadata": {},
   "outputs": [
    {
     "data": {
      "text/plain": [
       "-1"
      ]
     },
     "execution_count": 75,
     "metadata": {},
     "output_type": "execute_result"
    }
   ],
   "source": [
    "if lines is not None:\n",
    "        for i in range(0, len(lines)):\n",
    "            rho = lines[i][0][0]\n",
    "            theta = lines[i][0][1]\n",
    "            a = math.cos(theta)\n",
    "            b = math.sin(theta)\n",
    "            x0 = a * rho\n",
    "            y0 = b * rho\n",
    "            pt1 = (int(x0 + 1000*(-b)), int(y0 + 1000*(a)))\n",
    "            pt2 = (int(x0 - 1000*(-b)), int(y0 - 1000*(a)))\n",
    "            cv.line(cdst, pt1, pt2, (0,0,255), 3, cv.LINE_AA)\n",
    "            \n",
    "linesP = cv.HoughLinesP(dst, 1, np.pi / 180, 50, None, 50, 10)\n",
    "\n",
    "if linesP is not None:\n",
    "        for i in range(0, len(linesP)):\n",
    "            l = linesP[i][0]\n",
    "            cv.line(cdstP, (l[0], l[1]), (l[2], l[3]), (0,0,255), 3, cv.LINE_AA)\n",
    "            \n",
    "cv.imshow(\"Source\", src)\n",
    "cv.imshow(\"Detected Lines (in red) - Standard Hough Line Transform\", cdst)\n",
    "cv.imshow(\"Detected Lines (in red) - Probabilistic Line Transform\", cdstP)\n",
    "cv.waitKey(0)"
   ]
  },
  {
   "cell_type": "code",
   "execution_count": 77,
   "id": "86d09cfe",
   "metadata": {},
   "outputs": [
    {
     "data": {
      "text/plain": [
       "-1"
      ]
     },
     "execution_count": 77,
     "metadata": {},
     "output_type": "execute_result"
    }
   ],
   "source": [
    "if lines2 is not None:\n",
    "        for i in range(0, len(lines2)):\n",
    "            rho = lines2[i][0][0]\n",
    "            theta = lines2[i][0][1]\n",
    "            a = math.cos(theta)\n",
    "            b = math.sin(theta)\n",
    "            x0 = a * rho\n",
    "            y0 = b * rho\n",
    "            pt1 = (int(x0 + 1000*(-b)), int(y0 + 1000*(a)))\n",
    "            pt2 = (int(x0 - 1000*(-b)), int(y0 - 1000*(a)))\n",
    "            cv.line(cdst2, pt1, pt2, (0,0,255), 3, cv.LINE_AA)\n",
    "            \n",
    "linesP = cv.HoughLinesP(dst2, 1, np.pi / 180, 50, None, 50, 10)\n",
    "\n",
    "if linesP is not None:\n",
    "        for i in range(0, len(linesP)):\n",
    "            l = linesP[i][0]\n",
    "            cv.line(cdstP2, (l[0], l[1]), (l[2], l[3]), (0,0,255), 3, cv.LINE_AA)\n",
    "            \n",
    "cv.imshow(\"Source\", src2)\n",
    "cv.imshow(\"Detected Lines (in red) - Standard Hough Line Transform\", cdst2)\n",
    "cv.imshow(\"Detected Lines (in red) - Probabilistic Line Transform\", cdstP2)\n",
    "cv.waitKey(0)"
   ]
  },
  {
   "cell_type": "code",
   "execution_count": 78,
   "id": "1d69a7f9",
   "metadata": {},
   "outputs": [
    {
     "data": {
      "text/plain": [
       "-1"
      ]
     },
     "execution_count": 78,
     "metadata": {},
     "output_type": "execute_result"
    }
   ],
   "source": [
    "if lines3 is not None:\n",
    "        for i in range(0, len(lines3)):\n",
    "            rho = lines3[i][0][0]\n",
    "            theta = lines3[i][0][1]\n",
    "            a = math.cos(theta)\n",
    "            b = math.sin(theta)\n",
    "            x0 = a * rho\n",
    "            y0 = b * rho\n",
    "            pt1 = (int(x0 + 1000*(-b)), int(y0 + 1000*(a)))\n",
    "            pt2 = (int(x0 - 1000*(-b)), int(y0 - 1000*(a)))\n",
    "            cv.line(cdst3, pt1, pt2, (0,0,255), 3, cv.LINE_AA)\n",
    "            \n",
    "linesP = cv.HoughLinesP(dst3, 1, np.pi / 180, 50, None, 50, 10)\n",
    "\n",
    "if linesP is not None:\n",
    "        for i in range(0, len(linesP)):\n",
    "            l = linesP[i][0]\n",
    "            cv.line(cdstP3, (l[0], l[1]), (l[2], l[3]), (0,0,255), 3, cv.LINE_AA)\n",
    "            \n",
    "cv.imshow(\"Source\", src3)\n",
    "cv.imshow(\"Detected Lines (in red) - Standard Hough Line Transform\", cdst3)\n",
    "cv.imshow(\"Detected Lines (in red) - Probabilistic Line Transform\", cdstP3)\n",
    "cv.waitKey(0)"
   ]
  },
  {
   "cell_type": "code",
   "execution_count": 34,
   "id": "8a931b63",
   "metadata": {},
   "outputs": [
    {
     "data": {
      "text/plain": [
       "-1"
      ]
     },
     "execution_count": 34,
     "metadata": {},
     "output_type": "execute_result"
    }
   ],
   "source": [
    "cv.imshow(\"Source\", src)\n",
    "cv.imshow(\"Detected Lines (in red) - Standard Hough Line Transform\", cdst)\n",
    "cv.imshow(\"Detected Lines (in red) - Probabilistic Line Transform\", cdstP)\n",
    "cv.waitKey(0)"
   ]
  },
  {
   "cell_type": "code",
   "execution_count": null,
   "id": "75782fea",
   "metadata": {},
   "outputs": [],
   "source": [
    "#reference: https://docs.opencv.org/3.4/d9/db0/tutorial_hough_lines.html"
   ]
  },
  {
   "cell_type": "code",
   "execution_count": null,
   "id": "e3ae62ee",
   "metadata": {},
   "outputs": [],
   "source": []
  },
  {
   "cell_type": "code",
   "execution_count": null,
   "id": "973c5a50",
   "metadata": {},
   "outputs": [],
   "source": []
  }
 ],
 "metadata": {
  "kernelspec": {
   "display_name": "Python 3 (ipykernel)",
   "language": "python",
   "name": "python3"
  },
  "language_info": {
   "codemirror_mode": {
    "name": "ipython",
    "version": 3
   },
   "file_extension": ".py",
   "mimetype": "text/x-python",
   "name": "python",
   "nbconvert_exporter": "python",
   "pygments_lexer": "ipython3",
   "version": "3.10.4"
  }
 },
 "nbformat": 4,
 "nbformat_minor": 5
}
