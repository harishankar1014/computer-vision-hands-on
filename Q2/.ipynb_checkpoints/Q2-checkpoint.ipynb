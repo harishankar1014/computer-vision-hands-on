{
 "cells": [
  {
   "cell_type": "code",
   "execution_count": 30,
   "id": "cd32156f",
   "metadata": {},
   "outputs": [],
   "source": [
    "#Edge detection \n",
    "import cv2"
   ]
  },
  {
   "cell_type": "code",
   "execution_count": 31,
   "id": "b515f9a2",
   "metadata": {},
   "outputs": [
    {
     "name": "stderr",
     "output_type": "stream",
     "text": [
      "WARNING: Ignoring invalid distribution -rotobuf (c:\\users\\murali\\appdata\\local\\programs\\python\\python310\\lib\\site-packages)\n",
      "WARNING: Ignoring invalid distribution -pencv-contrib-python (c:\\users\\murali\\appdata\\local\\programs\\python\\python310\\lib\\site-packages)\n",
      "WARNING: Ignoring invalid distribution -rotobuf (c:\\users\\murali\\appdata\\local\\programs\\python\\python310\\lib\\site-packages)\n",
      "WARNING: Ignoring invalid distribution -pencv-contrib-python (c:\\users\\murali\\appdata\\local\\programs\\python\\python310\\lib\\site-packages)\n",
      "ERROR: Could not find a version that satisfies the requirement cv2 (from versions: none)\n",
      "ERROR: No matching distribution found for cv2\n",
      "WARNING: Ignoring invalid distribution -rotobuf (c:\\users\\murali\\appdata\\local\\programs\\python\\python310\\lib\\site-packages)\n",
      "WARNING: Ignoring invalid distribution -pencv-contrib-python (c:\\users\\murali\\appdata\\local\\programs\\python\\python310\\lib\\site-packages)\n",
      "WARNING: Ignoring invalid distribution -rotobuf (c:\\users\\murali\\appdata\\local\\programs\\python\\python310\\lib\\site-packages)\n",
      "WARNING: Ignoring invalid distribution -pencv-contrib-python (c:\\users\\murali\\appdata\\local\\programs\\python\\python310\\lib\\site-packages)\n",
      "WARNING: Ignoring invalid distribution -rotobuf (c:\\users\\murali\\appdata\\local\\programs\\python\\python310\\lib\\site-packages)\n",
      "WARNING: Ignoring invalid distribution -pencv-contrib-python (c:\\users\\murali\\appdata\\local\\programs\\python\\python310\\lib\\site-packages)\n",
      "\n",
      "[notice] A new release of pip available: 22.3.1 -> 23.0.1\n",
      "[notice] To update, run: python.exe -m pip install --upgrade pip\n"
     ]
    }
   ],
   "source": [
    "!pip install cv2"
   ]
  },
  {
   "cell_type": "code",
   "execution_count": 33,
   "id": "bb1169d8",
   "metadata": {},
   "outputs": [],
   "source": [
    "img = cv2.imread(\"dataset/photo1.jpeg\")\n",
    "img2 = cv2.imread(\"dataset/photo2.jpeg\")\n",
    "img3 = cv2.imread(\"dataset/photo3.jpeg\")\n",
    "img4 = cv2.imread(\"dataset/photo4.jpeg\")\n",
    "# cv2.imshow('Original',img)\n",
    "# cv2.waitKey(0)\n",
    "# cv2.imshow('Original',img2)\n",
    "# cv2.waitKey(0)\n",
    "# cv2.imshow('Original',img3)\n",
    "# cv2.waitKey(0)"
   ]
  },
  {
   "cell_type": "code",
   "execution_count": 56,
   "id": "43ecb54b",
   "metadata": {},
   "outputs": [],
   "source": [
    "#image 1 gray scale and blur\n",
    "img_gray = cv2.cvtColor(img,cv2.COLOR_BGR2GRAY)\n",
    "img_blur = cv2.GaussianBlur(img_gray,(3,3),0)\n",
    "\n",
    "#image 2 gray scale and blur\n",
    "img_gray2 = cv2.cvtColor(img2,cv2.COLOR_BGR2GRAY)\n",
    "img_blur2 = cv2.GaussianBlur(img_gray2,(3,3),0)\n",
    "\n",
    "#image 3 gray scale and blur\n",
    "img_gray3 = cv2.cvtColor(img3,cv2.COLOR_BGR2GRAY)\n",
    "img_blur3 = cv2.GaussianBlur(img_gray3,(3,3),0)\n",
    "\n",
    "#imagr 4 gray scale and blur\n",
    "img_gray4 = cv2.cvtColor(img4,cv2.COLOR_BGR2GRAY)\n",
    "img_blur4 = cv2.GaussianBlur(img_gray4,(3,3),0)"
   ]
  },
  {
   "cell_type": "code",
   "execution_count": 5,
   "id": "7fd96798",
   "metadata": {},
   "outputs": [
    {
     "ename": "TypeError",
     "evalue": "Argument 'delay' is required to be an integer",
     "output_type": "error",
     "traceback": [
      "\u001b[1;31m---------------------------------------------------------------------------\u001b[0m",
      "\u001b[1;31mTypeError\u001b[0m                                 Traceback (most recent call last)",
      "Input \u001b[1;32mIn [5]\u001b[0m, in \u001b[0;36m<cell line: 2>\u001b[1;34m()\u001b[0m\n\u001b[0;32m      1\u001b[0m cv2\u001b[38;5;241m.\u001b[39mimshow(\u001b[38;5;124m'\u001b[39m\u001b[38;5;124mGray\u001b[39m\u001b[38;5;124m'\u001b[39m,img_gray)\n\u001b[1;32m----> 2\u001b[0m \u001b[43mcv2\u001b[49m\u001b[38;5;241;43m.\u001b[39;49m\u001b[43mwaitKey\u001b[49m\u001b[43m(\u001b[49m\u001b[38;5;124;43m\"\u001b[39;49m\u001b[38;5;124;43mq\u001b[39;49m\u001b[38;5;124;43m\"\u001b[39;49m\u001b[43m)\u001b[49m\n",
      "\u001b[1;31mTypeError\u001b[0m: Argument 'delay' is required to be an integer"
     ]
    }
   ],
   "source": [
    "cv2.imshow('Gray',img_gray)\n",
    "cv2.waitKey(\"q\")"
   ]
  },
  {
   "cell_type": "code",
   "execution_count": 5,
   "id": "1dcf5ee1",
   "metadata": {},
   "outputs": [
    {
     "data": {
      "text/plain": [
       "-1"
      ]
     },
     "execution_count": 5,
     "metadata": {},
     "output_type": "execute_result"
    }
   ],
   "source": [
    "cv2.imshow('Blur',img_blur)\n",
    "cv2.waitKey(0)"
   ]
  },
  {
   "cell_type": "code",
   "execution_count": 35,
   "id": "19f3d87e",
   "metadata": {},
   "outputs": [],
   "source": [
    "#Sobel edge detection image 1\n",
    "sobelx = cv2.Sobel(src=img_blur, ddepth=cv2.CV_64F, dx=1, dy=0, ksize=5)\n",
    "sobely = cv2.Sobel(src=img_blur, ddepth=cv2.CV_64F, dx=0, dy=1, ksize=5)\n",
    "sobelxy = cv2.Sobel(src=img_blur, ddepth=cv2.CV_64F, dx=1, dy=1, ksize=5)"
   ]
  },
  {
   "cell_type": "code",
   "execution_count": 36,
   "id": "21b81066",
   "metadata": {},
   "outputs": [],
   "source": [
    "#Sobel edge detection image 2\n",
    "sobelx2 = cv2.Sobel(src=img_blur2, ddepth=cv2.CV_64F, dx=1, dy=0, ksize=5)\n",
    "sobely2 = cv2.Sobel(src=img_blur2, ddepth=cv2.CV_64F, dx=0, dy=1, ksize=5)\n",
    "sobelxy2 = cv2.Sobel(src=img_blur2, ddepth=cv2.CV_64F, dx=1, dy=1, ksize=5)"
   ]
  },
  {
   "cell_type": "code",
   "execution_count": 37,
   "id": "4c3ddc52",
   "metadata": {},
   "outputs": [],
   "source": [
    "#Sobel edge detection image 3\n",
    "sobelx3 = cv2.Sobel(src=img_blur3, ddepth=cv2.CV_64F, dx=1, dy=0, ksize=5)\n",
    "sobely3 = cv2.Sobel(src=img_blur3, ddepth=cv2.CV_64F, dx=0, dy=1, ksize=5)\n",
    "sobelxy3 = cv2.Sobel(src=img_blur3, ddepth=cv2.CV_64F, dx=1, dy=1, ksize=5)"
   ]
  },
  {
   "cell_type": "code",
   "execution_count": 57,
   "id": "0b38bb1b",
   "metadata": {},
   "outputs": [],
   "source": [
    "#Sobel edge detection image 4\n",
    "sobelx4 = cv2.Sobel(src=img_blur4, ddepth=cv2.CV_64F, dx=1, dy=0, ksize=5)\n",
    "sobely4 = cv2.Sobel(src=img_blur4, ddepth=cv2.CV_64F, dx=0, dy=1, ksize=5)\n",
    "sobelxy4 = cv2.Sobel(src=img_blur4, ddepth=cv2.CV_64F, dx=1, dy=1, ksize=5)"
   ]
  },
  {
   "cell_type": "code",
   "execution_count": 39,
   "id": "7074ff8a",
   "metadata": {},
   "outputs": [
    {
     "data": {
      "text/plain": [
       "-1"
      ]
     },
     "execution_count": 39,
     "metadata": {},
     "output_type": "execute_result"
    }
   ],
   "source": [
    "#Sobel X image 1\n",
    "cv2.imshow('Sobel X', sobelx)\n",
    "cv2.waitKey(0)"
   ]
  },
  {
   "cell_type": "code",
   "execution_count": 40,
   "id": "133a5d84",
   "metadata": {},
   "outputs": [
    {
     "data": {
      "text/plain": [
       "-1"
      ]
     },
     "execution_count": 40,
     "metadata": {},
     "output_type": "execute_result"
    }
   ],
   "source": [
    "#Sobel Y image 1\n",
    "cv2.imshow('Sobel Y', sobely)\n",
    "cv2.waitKey(0)"
   ]
  },
  {
   "cell_type": "code",
   "execution_count": 41,
   "id": "d287d2ae",
   "metadata": {},
   "outputs": [
    {
     "data": {
      "text/plain": [
       "-1"
      ]
     },
     "execution_count": 41,
     "metadata": {},
     "output_type": "execute_result"
    }
   ],
   "source": [
    "#Sobel XY image 1 \n",
    "cv2.imshow('Sobel X Y', sobelxy)\n",
    "cv2.waitKey(0)"
   ]
  },
  {
   "cell_type": "code",
   "execution_count": 42,
   "id": "aa66eff4",
   "metadata": {},
   "outputs": [
    {
     "data": {
      "text/plain": [
       "-1"
      ]
     },
     "execution_count": 42,
     "metadata": {},
     "output_type": "execute_result"
    }
   ],
   "source": [
    "#Sobel X image 2\n",
    "cv2.imshow('Sobel X', sobelx2)\n",
    "cv2.waitKey(0)"
   ]
  },
  {
   "cell_type": "code",
   "execution_count": 43,
   "id": "271ca308",
   "metadata": {},
   "outputs": [
    {
     "data": {
      "text/plain": [
       "-1"
      ]
     },
     "execution_count": 43,
     "metadata": {},
     "output_type": "execute_result"
    }
   ],
   "source": [
    "#Sobel Y image 2\n",
    "cv2.imshow('Sobel Y', sobely2)\n",
    "cv2.waitKey(0)"
   ]
  },
  {
   "cell_type": "code",
   "execution_count": 44,
   "id": "db15fa2c",
   "metadata": {},
   "outputs": [
    {
     "data": {
      "text/plain": [
       "-1"
      ]
     },
     "execution_count": 44,
     "metadata": {},
     "output_type": "execute_result"
    }
   ],
   "source": [
    "#Sobel XY image 2 \n",
    "cv2.imshow('Sobel X Y', sobelxy2)\n",
    "cv2.waitKey(0)"
   ]
  },
  {
   "cell_type": "code",
   "execution_count": 45,
   "id": "4bb0ac89",
   "metadata": {},
   "outputs": [
    {
     "data": {
      "text/plain": [
       "-1"
      ]
     },
     "execution_count": 45,
     "metadata": {},
     "output_type": "execute_result"
    }
   ],
   "source": [
    "#Sobel X image 3\n",
    "cv2.imshow('Sobel X', sobelx3)\n",
    "cv2.waitKey(0)"
   ]
  },
  {
   "cell_type": "code",
   "execution_count": 46,
   "id": "d5f374ca",
   "metadata": {},
   "outputs": [
    {
     "data": {
      "text/plain": [
       "-1"
      ]
     },
     "execution_count": 46,
     "metadata": {},
     "output_type": "execute_result"
    }
   ],
   "source": [
    "#Sobel Y image 3\n",
    "cv2.imshow('Sobel Y', sobely3)\n",
    "cv2.waitKey(0)"
   ]
  },
  {
   "cell_type": "code",
   "execution_count": 47,
   "id": "ca4707f5",
   "metadata": {},
   "outputs": [
    {
     "data": {
      "text/plain": [
       "-1"
      ]
     },
     "execution_count": 47,
     "metadata": {},
     "output_type": "execute_result"
    }
   ],
   "source": [
    "#Sobel XY image 3\n",
    "cv2.imshow('Sobel X Y', sobelxy3)\n",
    "cv2.waitKey(0)"
   ]
  },
  {
   "cell_type": "code",
   "execution_count": 58,
   "id": "9b1eb6aa",
   "metadata": {},
   "outputs": [
    {
     "data": {
      "text/plain": [
       "-1"
      ]
     },
     "execution_count": 58,
     "metadata": {},
     "output_type": "execute_result"
    }
   ],
   "source": [
    "#Sobel X image 4\n",
    "cv2.imshow('Sobel X', sobelx4)\n",
    "cv2.waitKey(0)"
   ]
  },
  {
   "cell_type": "code",
   "execution_count": 59,
   "id": "3c12412b",
   "metadata": {},
   "outputs": [
    {
     "data": {
      "text/plain": [
       "-1"
      ]
     },
     "execution_count": 59,
     "metadata": {},
     "output_type": "execute_result"
    }
   ],
   "source": [
    "#Sobel Y image 4\n",
    "cv2.imshow('Sobel Y', sobely4)\n",
    "cv2.waitKey(0)"
   ]
  },
  {
   "cell_type": "code",
   "execution_count": 60,
   "id": "b90e12cc",
   "metadata": {},
   "outputs": [
    {
     "data": {
      "text/plain": [
       "-1"
      ]
     },
     "execution_count": 60,
     "metadata": {},
     "output_type": "execute_result"
    }
   ],
   "source": [
    "#Sobel X image 4\n",
    "cv2.imshow('Sobel XY', sobelxy4)\n",
    "cv2.waitKey(0)"
   ]
  },
  {
   "cell_type": "code",
   "execution_count": 61,
   "id": "2d4ea581",
   "metadata": {},
   "outputs": [],
   "source": [
    "#Canny edge detection\n",
    "#image 1 edge detection\n",
    "edges = cv2.Canny(image=img_blur, threshold1=100, threshold2=200)\n",
    "#image 2 edge detection\n",
    "edges2 = cv2.Canny(image=img_blur2, threshold1=100, threshold2=200)\n",
    "#image 3 edge detection\n",
    "edges3 = cv2.Canny(image=img_blur3, threshold1=100, threshold2=200)\n",
    "#image 4 edge detection\n",
    "edges4 = cv2.Canny(image=img_blur4, threshold1=100, threshold2=200)"
   ]
  },
  {
   "cell_type": "code",
   "execution_count": 20,
   "id": "a5491844",
   "metadata": {},
   "outputs": [],
   "source": [
    "#test\n",
    "# edges = cv2.Canny(image=img, threshold1=100, threshold2=200)"
   ]
  },
  {
   "cell_type": "code",
   "execution_count": 51,
   "id": "e62d5630",
   "metadata": {},
   "outputs": [
    {
     "data": {
      "text/plain": [
       "-1"
      ]
     },
     "execution_count": 51,
     "metadata": {},
     "output_type": "execute_result"
    }
   ],
   "source": [
    "#image 1 edge detection\n",
    "cv2.imshow('Canny Edge Detection', edges)\n",
    "cv2.waitKey(0)"
   ]
  },
  {
   "cell_type": "code",
   "execution_count": 52,
   "id": "36138d39",
   "metadata": {},
   "outputs": [
    {
     "data": {
      "text/plain": [
       "-1"
      ]
     },
     "execution_count": 52,
     "metadata": {},
     "output_type": "execute_result"
    }
   ],
   "source": [
    "#image 2 edge detection\n",
    "cv2.imshow('Canny Edge Detection', edges2)\n",
    "cv2.waitKey(0)"
   ]
  },
  {
   "cell_type": "code",
   "execution_count": 53,
   "id": "138a3ca3",
   "metadata": {},
   "outputs": [
    {
     "data": {
      "text/plain": [
       "-1"
      ]
     },
     "execution_count": 53,
     "metadata": {},
     "output_type": "execute_result"
    }
   ],
   "source": [
    "#image 3 edge detection\n",
    "cv2.imshow('Canny Edge Detection', edges3)\n",
    "cv2.waitKey(0)"
   ]
  },
  {
   "cell_type": "code",
   "execution_count": 62,
   "id": "63a535d3",
   "metadata": {},
   "outputs": [
    {
     "data": {
      "text/plain": [
       "-1"
      ]
     },
     "execution_count": 62,
     "metadata": {},
     "output_type": "execute_result"
    }
   ],
   "source": [
    "#image 3 edge detection\n",
    "cv2.imshow('Canny Edge Detection', edges4)\n",
    "cv2.waitKey(0)"
   ]
  },
  {
   "cell_type": "code",
   "execution_count": 19,
   "id": "ae54c637",
   "metadata": {},
   "outputs": [],
   "source": [
    "cv2.destroyAllWindows()"
   ]
  },
  {
   "cell_type": "code",
   "execution_count": null,
   "id": "b87bb9a1",
   "metadata": {},
   "outputs": [],
   "source": [
    "#Reference = https://learnopencv.com/edge-detection-using-opencv/"
   ]
  },
  {
   "cell_type": "code",
   "execution_count": null,
   "id": "85015728",
   "metadata": {},
   "outputs": [],
   "source": []
  },
  {
   "cell_type": "code",
   "execution_count": 64,
   "id": "52d699b0",
   "metadata": {},
   "outputs": [],
   "source": [
    "#Corner detection \n",
    "import numpy as np\n",
    "import cv2 as cv"
   ]
  },
  {
   "cell_type": "code",
   "execution_count": 63,
   "id": "fe0e6812",
   "metadata": {},
   "outputs": [],
   "source": [
    "img = cv.imread(\"dataset/photo1.jpeg\")\n",
    "img2 = cv.imread(\"dataset/photo2.jpeg\")\n",
    "img3 = cv.imread(\"dataset/photo3.jpeg\")\n",
    "img4 = cv2.imread(\"dataset/photo4.jpeg\")\n",
    "gray = cv.cvtColor(img,cv.COLOR_BGR2GRAY)\n",
    "gray2 = cv.cvtColor(img2,cv.COLOR_BGR2GRAY)\n",
    "gray3 = cv.cvtColor(img3,cv.COLOR_BGR2GRAY)\n",
    "gray4 = cv.cvtColor(img3,cv.COLOR_BGR2GRAY)"
   ]
  },
  {
   "cell_type": "code",
   "execution_count": 65,
   "id": "66629621",
   "metadata": {},
   "outputs": [],
   "source": [
    "# gray = np.float32(gray)\n",
    "dst = cv.cornerHarris(gray,2,3,0.04)\n",
    "dst2 = cv.cornerHarris(gray2,2,3,0.04)\n",
    "dst3 = cv.cornerHarris(gray3,2,3,0.04)\n",
    "dst4 = cv.cornerHarris(gray4,2,3,0.04)"
   ]
  },
  {
   "cell_type": "code",
   "execution_count": 66,
   "id": "2257f194",
   "metadata": {},
   "outputs": [],
   "source": [
    "dst = cv.dilate(dst,None)\n",
    "img[dst>0.01*dst.max()]=[0,0,255]\n",
    "\n",
    "dst2 = cv.dilate(dst2,None)\n",
    "img2[dst2>0.01*dst2.max()]=[0,0,255]\n",
    "\n",
    "dst3 = cv.dilate(dst3,None)\n",
    "img3[dst3>0.01*dst3.max()]=[0,0,255]\n",
    "\n",
    "dst4 = cv.dilate(dst3,None)\n",
    "img4[dst4>0.01*dst4.max()]=[0,0,255]"
   ]
  },
  {
   "cell_type": "code",
   "execution_count": 67,
   "id": "ae6d7f74",
   "metadata": {},
   "outputs": [],
   "source": [
    "cv.imshow('dst',img)\n",
    "if cv.waitKey(0) & 0xff == 27:\n",
    "    cv.destroyAllWindows()"
   ]
  },
  {
   "cell_type": "code",
   "execution_count": 7,
   "id": "6cbbd036",
   "metadata": {},
   "outputs": [],
   "source": [
    "cv.imshow('dst 2',img2)\n",
    "if cv.waitKey(0) & 0xff == 27:\n",
    "    cv.destroyAllWindows()"
   ]
  },
  {
   "cell_type": "code",
   "execution_count": 8,
   "id": "67002f1f",
   "metadata": {},
   "outputs": [],
   "source": [
    "cv.imshow('dst 3',img3)\n",
    "if cv.waitKey(0) & 0xff == 27:\n",
    "    cv.destroyAllWindows()"
   ]
  },
  {
   "cell_type": "code",
   "execution_count": 68,
   "id": "cf4bac86",
   "metadata": {},
   "outputs": [],
   "source": [
    "cv.imshow('dst 4',img4)\n",
    "if cv.waitKey(0) & 0xff == 27:\n",
    "    cv.destroyAllWindows()"
   ]
  },
  {
   "cell_type": "code",
   "execution_count": null,
   "id": "3989b0da",
   "metadata": {},
   "outputs": [],
   "source": [
    "#Reference : https://docs.opencv.org/3.4/dc/d0d/tutorial_py_features_harris.html"
   ]
  },
  {
   "cell_type": "code",
   "execution_count": null,
   "id": "eb8e3613",
   "metadata": {},
   "outputs": [],
   "source": []
  },
  {
   "cell_type": "code",
   "execution_count": 75,
   "id": "a4c137c6",
   "metadata": {},
   "outputs": [],
   "source": [
    "#Line detection\n",
    "import sys\n",
    "import math\n",
    "import cv2 as cv\n",
    "import numpy as np"
   ]
  },
  {
   "cell_type": "code",
   "execution_count": 72,
   "id": "3cac6e43",
   "metadata": {},
   "outputs": [],
   "source": [
    "#image 1\n",
    "src = cv.imread(cv.samples.findFile(\"dataset/photo1.jpeg\"), cv.IMREAD_GRAYSCALE)\n",
    "dst = cv.Canny(src, 50, 200, None, 3)\n",
    "\n",
    "#image 2\n",
    "src2 = cv.imread(cv.samples.findFile(\"dataset/photo2.jpeg\"), cv.IMREAD_GRAYSCALE)\n",
    "dst2 = cv.Canny(src2, 50, 200, None, 3)\n",
    "\n",
    "#image 3\n",
    "src3 = cv.imread(cv.samples.findFile(\"dataset/photo3.jpeg\"), cv.IMREAD_GRAYSCALE)\n",
    "dst3 = cv.Canny(src3, 50, 200, None, 3)\n",
    "\n",
    "#image 4\n",
    "src4 = cv.imread(cv.samples.findFile(\"dataset/photo4.jpeg\"), cv.IMREAD_GRAYSCALE)\n",
    "dst4 = cv.Canny(src4, 50, 200, None, 3)"
   ]
  },
  {
   "cell_type": "code",
   "execution_count": 70,
   "id": "ba6765d8",
   "metadata": {},
   "outputs": [],
   "source": [
    "cdst = cv.cvtColor(dst, cv.COLOR_GRAY2BGR)\n",
    "cdstP = np.copy(cdst)\n",
    "\n",
    "cdst2 = cv.cvtColor(dst2, cv.COLOR_GRAY2BGR)\n",
    "cdstP2 = np.copy(cdst2)\n",
    "\n",
    "cdst3 = cv.cvtColor(dst3, cv.COLOR_GRAY2BGR)\n",
    "cdstP3 = np.copy(cdst3)\n",
    "\n",
    "cdst4 = cv.cvtColor(dst4, cv.COLOR_GRAY2BGR)\n",
    "cdstP4 = np.copy(cdst4)"
   ]
  },
  {
   "cell_type": "code",
   "execution_count": 73,
   "id": "10c1f6ac",
   "metadata": {},
   "outputs": [],
   "source": [
    "lines = cv.HoughLines(dst, 1, np.pi / 180, 150, None, 0, 0)\n",
    "lines2 = cv.HoughLines(dst2, 1, np.pi / 180, 150, None, 0, 0)\n",
    "lines3 = cv.HoughLines(dst3, 1, np.pi / 180, 150, None, 0, 0)\n",
    "lines4 = cv.HoughLines(dst4, 1, np.pi / 180, 150, None, 0, 0)"
   ]
  },
  {
   "cell_type": "code",
   "execution_count": 14,
   "id": "027c314a",
   "metadata": {},
   "outputs": [
    {
     "data": {
      "text/plain": [
       "-1"
      ]
     },
     "execution_count": 14,
     "metadata": {},
     "output_type": "execute_result"
    }
   ],
   "source": [
    "if lines is not None:\n",
    "        for i in range(0, len(lines)):\n",
    "            rho = lines[i][0][0]\n",
    "            theta = lines[i][0][1]\n",
    "            a = math.cos(theta)\n",
    "            b = math.sin(theta)\n",
    "            x0 = a * rho\n",
    "            y0 = b * rho\n",
    "            pt1 = (int(x0 + 1000*(-b)), int(y0 + 1000*(a))) # rcosth - sinth, rsinth + costh\n",
    "            pt2 = (int(x0 - 1000*(-b)), int(y0 - 1000*(a))) # rcosth + sinth, rsinth - costh\n",
    "            cv.line(cdst, pt1, pt2, (0,0,255), 3, cv.LINE_AA)\n",
    "            \n",
    "linesP = cv.HoughLinesP(dst, 1, np.pi / 180, 50, None, 50, 10)\n",
    "\n",
    "if linesP is not None:\n",
    "        for i in range(0, len(linesP)):\n",
    "            l = linesP[i][0]\n",
    "            cv.line(cdstP, (l[0], l[1]), (l[2], l[3]), (0,0,255), 3, cv.LINE_AA)\n",
    "            \n",
    "cv.imshow(\"Source\", src)\n",
    "cv.imshow(\"Detected Lines (in red) - Standard Hough Line Transform\", cdst)\n",
    "cv.imshow(\"Detected Lines (in red) - Probabilistic Line Transform\", cdstP)\n",
    "cv.waitKey(0)"
   ]
  },
  {
   "cell_type": "code",
   "execution_count": 15,
   "id": "86d09cfe",
   "metadata": {},
   "outputs": [
    {
     "data": {
      "text/plain": [
       "-1"
      ]
     },
     "execution_count": 15,
     "metadata": {},
     "output_type": "execute_result"
    }
   ],
   "source": [
    "if lines2 is not None:\n",
    "        for i in range(0, len(lines2)):\n",
    "            rho = lines2[i][0][0]\n",
    "            theta = lines2[i][0][1]\n",
    "            a = math.cos(theta)\n",
    "            b = math.sin(theta)\n",
    "            x0 = a * rho\n",
    "            y0 = b * rho\n",
    "            pt1 = (int(x0 + 1000*(-b)), int(y0 + 1000*(a)))\n",
    "            pt2 = (int(x0 - 1000*(-b)), int(y0 - 1000*(a)))\n",
    "            cv.line(cdst2, pt1, pt2, (0,0,255), 3, cv.LINE_AA)\n",
    "            \n",
    "linesP = cv.HoughLinesP(dst2, 1, np.pi / 180, 50, None, 50, 10)\n",
    "\n",
    "if linesP is not None:\n",
    "        for i in range(0, len(linesP)):\n",
    "            l = linesP[i][0]\n",
    "            cv.line(cdstP2, (l[0], l[1]), (l[2], l[3]), (0,0,255), 3, cv.LINE_AA)\n",
    "            \n",
    "cv.imshow(\"Source\", src2)\n",
    "cv.imshow(\"Detected Lines (in red) - Standard Hough Line Transform\", cdst2)\n",
    "cv.imshow(\"Detected Lines (in red) - Probabilistic Line Transform\", cdstP2)\n",
    "cv.waitKey(0)"
   ]
  },
  {
   "cell_type": "code",
   "execution_count": 17,
   "id": "1d69a7f9",
   "metadata": {},
   "outputs": [
    {
     "data": {
      "text/plain": [
       "-1"
      ]
     },
     "execution_count": 17,
     "metadata": {},
     "output_type": "execute_result"
    }
   ],
   "source": [
    "if lines3 is not None:\n",
    "        for i in range(0, len(lines3)):\n",
    "            rho = lines3[i][0][0]\n",
    "            theta = lines3[i][0][1]\n",
    "            a = math.cos(theta)\n",
    "            b = math.sin(theta)\n",
    "            x0 = a * rho\n",
    "            y0 = b * rho\n",
    "            pt1 = (int(x0 + 1000*(-b)), int(y0 + 1000*(a)))\n",
    "            pt2 = (int(x0 - 1000*(-b)), int(y0 - 1000*(a)))\n",
    "            cv.line(cdst3, pt1, pt2, (0,0,255), 3, cv.LINE_AA)\n",
    "            \n",
    "linesP = cv.HoughLinesP(dst3, 1, np.pi / 180, 50, None, 50, 10)\n",
    "\n",
    "if linesP is not None:\n",
    "        for i in range(0, len(linesP)):\n",
    "            l = linesP[i][0]\n",
    "            cv.line(cdstP3, (l[0], l[1]), (l[2], l[3]), (0,0,255), 3, cv.LINE_AA)\n",
    "            \n",
    "cv.imshow(\"Source\", src3)\n",
    "cv.imshow(\"Detected Lines (in red) - Standard Hough Line Transform\", cdst3)\n",
    "cv.imshow(\"Detected Lines (in red) - Probabilistic Line Transform\", cdstP3)\n",
    "cv.waitKey(0)"
   ]
  },
  {
   "cell_type": "code",
   "execution_count": 80,
   "id": "6aa76cec",
   "metadata": {},
   "outputs": [
    {
     "data": {
      "text/plain": [
       "-1"
      ]
     },
     "execution_count": 80,
     "metadata": {},
     "output_type": "execute_result"
    }
   ],
   "source": [
    "if lines4 is not None:\n",
    "        for i in range(0, len(lines4)):\n",
    "            rho = lines4[i][0][0]\n",
    "            theta = lines4[i][0][1]\n",
    "            a = math.cos(theta)\n",
    "            b = math.sin(theta)\n",
    "            x0 = a * rho\n",
    "            y0 = b * rho\n",
    "            pt1 = (int(x0 + 1000*(-b)), int(y0 + 1000*(a)))\n",
    "            pt2 = (int(x0 - 1000*(-b)), int(y0 - 1000*(a)))\n",
    "            cv.line(cdst4, pt1, pt2, (0,0,255), 3, cv.LINE_AA)\n",
    "            \n",
    "linesP = cv.HoughLinesP(dst4, 1, np.pi / 180, 50, None, 50, 10)\n",
    "\n",
    "if linesP is not None:\n",
    "        for i in range(0, len(linesP)):\n",
    "            l = linesP[i][0]\n",
    "            cv.line(cdstP4, (l[0], l[1]), (l[2], l[3]), (0,0,255), 3, cv.LINE_AA)\n",
    "            \n",
    "cv.imshow(\"Source\", src4)\n",
    "cv.imshow(\"Detected Lines (in red) - Standard Hough Line Transform\", cdst4)\n",
    "cv.imshow(\"Detected Lines (in red) - Probabilistic Line Transform\", cdstP4)\n",
    "cv.waitKey(0)"
   ]
  },
  {
   "cell_type": "code",
   "execution_count": null,
   "id": "75782fea",
   "metadata": {},
   "outputs": [],
   "source": [
    "#reference: https://docs.opencv.org/3.4/d9/db0/tutorial_hough_lines.html"
   ]
  },
  {
   "cell_type": "code",
   "execution_count": null,
   "id": "e3ae62ee",
   "metadata": {},
   "outputs": [],
   "source": []
  },
  {
   "cell_type": "code",
   "execution_count": 18,
   "id": "973c5a50",
   "metadata": {},
   "outputs": [],
   "source": [
    "#Gabor filter\n",
    "import cv2\n",
    "import numpy as np\n",
    "from matplotlib import pyplot as plt"
   ]
  },
  {
   "cell_type": "code",
   "execution_count": 30,
   "id": "f5aa4446",
   "metadata": {},
   "outputs": [
    {
     "data": {
      "text/plain": [
       "-1"
      ]
     },
     "execution_count": 30,
     "metadata": {},
     "output_type": "execute_result"
    }
   ],
   "source": [
    "img = cv2.imread(\"dataset/photo3.jpeg\")\n",
    "cv2.imshow(\"Source\",img)\n",
    "cv2.waitKey(0)"
   ]
  },
  {
   "cell_type": "code",
   "execution_count": 31,
   "id": "2e4db074",
   "metadata": {},
   "outputs": [],
   "source": [
    "def build_filters(_lambda,_orientation):\n",
    "    filters = []\n",
    "    ksize = 31\n",
    "    theta = np.radians(_orientation)\n",
    "    kern = cv2.getGaborKernel((ksize, ksize), 4.0, theta, _lambda, 0.5, 0, ktype=cv2.CV_32F)\n",
    "    kern /= 1.5*kern.sum()\n",
    "    filters.append(kern)\n",
    "    return filters"
   ]
  },
  {
   "cell_type": "code",
   "execution_count": 32,
   "id": "43e89acc",
   "metadata": {},
   "outputs": [],
   "source": [
    "def process(img, filters):\n",
    "    accum = np.zeros_like(img)\n",
    "    for kern in filters:\n",
    "        fimg = cv2.filter2D(img, cv2.CV_8UC3, kern)\n",
    "        np.maximum(accum, fimg, accum)\n",
    "    return accum"
   ]
  },
  {
   "cell_type": "code",
   "execution_count": 40,
   "id": "be09e911",
   "metadata": {},
   "outputs": [],
   "source": [
    "filters20_0 = build_filters(20,0)\n",
    "res1 = process(img, filters20_0)\n",
    "cv2.imshow('result wavelength=20 , orientation=0', res1)\n",
    "cv2.waitKey(0)\n",
    "cv2.destroyAllWindows()"
   ]
  },
  {
   "cell_type": "code",
   "execution_count": 39,
   "id": "195ec066",
   "metadata": {},
   "outputs": [],
   "source": [
    "filters80_0 = build_filters(80,0)\n",
    "res1 = process(img, filters80_0)\n",
    "cv2.imshow('result wavelength=80 , orientation=0', res1)\n",
    "cv2.waitKey(0)\n",
    "cv2.destroyAllWindows()"
   ]
  },
  {
   "cell_type": "code",
   "execution_count": 37,
   "id": "924ff845",
   "metadata": {},
   "outputs": [],
   "source": [
    "filters30_90 = build_filters(30,90)\n",
    "res1 = process(img, filters30_90)\n",
    "cv2.imshow('result wavelength=30 , orientation=90', res1)\n",
    "cv2.waitKey(0)\n",
    "cv2.destroyAllWindows()"
   ]
  },
  {
   "cell_type": "code",
   "execution_count": 41,
   "id": "4de522a5",
   "metadata": {},
   "outputs": [],
   "source": [
    "filters10_150 = build_filters(10,150)\n",
    "res1 = process(img, filters10_150)\n",
    "cv2.imshow('result wavelength=10 , orientation=150', res1)\n",
    "cv2.waitKey(0)\n",
    "cv2.destroyAllWindows()"
   ]
  },
  {
   "cell_type": "code",
   "execution_count": null,
   "id": "435a908c",
   "metadata": {},
   "outputs": [],
   "source": [
    "#reference https://cvtuts.wordpress.com/2014/04/27/gabor-filters-a-practical-overview/"
   ]
  },
  {
   "cell_type": "code",
   "execution_count": 28,
   "id": "de11d534",
   "metadata": {},
   "outputs": [
    {
     "name": "stdout",
     "output_type": "stream",
     "text": [
      "Collecting PyWavelets\n",
      "  Downloading PyWavelets-1.4.1-cp310-cp310-win_amd64.whl (4.2 MB)\n",
      "     ---------------------------------------- 4.2/4.2 MB 3.3 MB/s eta 0:00:00\n",
      "Requirement already satisfied: numpy>=1.17.3 in c:\\users\\murali\\appdata\\local\\programs\\python\\python310\\lib\\site-packages (from PyWavelets) (1.22.3)\n",
      "Installing collected packages: PyWavelets\n",
      "Successfully installed PyWavelets-1.4.1\n"
     ]
    },
    {
     "name": "stderr",
     "output_type": "stream",
     "text": [
      "WARNING: Ignoring invalid distribution -rotobuf (c:\\users\\murali\\appdata\\local\\programs\\python\\python310\\lib\\site-packages)\n",
      "WARNING: Ignoring invalid distribution -rotobuf (c:\\users\\murali\\appdata\\local\\programs\\python\\python310\\lib\\site-packages)\n",
      "WARNING: Ignoring invalid distribution -rotobuf (c:\\users\\murali\\appdata\\local\\programs\\python\\python310\\lib\\site-packages)\n",
      "WARNING: Ignoring invalid distribution -rotobuf (c:\\users\\murali\\appdata\\local\\programs\\python\\python310\\lib\\site-packages)\n",
      "WARNING: Ignoring invalid distribution -rotobuf (c:\\users\\murali\\appdata\\local\\programs\\python\\python310\\lib\\site-packages)\n",
      "WARNING: Ignoring invalid distribution -rotobuf (c:\\users\\murali\\appdata\\local\\programs\\python\\python310\\lib\\site-packages)\n",
      "WARNING: Ignoring invalid distribution -rotobuf (c:\\users\\murali\\appdata\\local\\programs\\python\\python310\\lib\\site-packages)\n",
      "\n",
      "[notice] A new release of pip available: 22.3.1 -> 23.0.1\n",
      "[notice] To update, run: python.exe -m pip install --upgrade pip\n"
     ]
    }
   ],
   "source": [
    "# !pip install pywt\n",
    "!pip install PyWavelets"
   ]
  },
  {
   "cell_type": "code",
   "execution_count": 81,
   "id": "ff774702",
   "metadata": {},
   "outputs": [],
   "source": [
    "#discrete wavelet transform\n",
    "import cv2 as cv\n",
    "import numpy as np\n",
    "import pywt\n",
    "import matplotlib.pyplot as plt"
   ]
  },
  {
   "cell_type": "code",
   "execution_count": 82,
   "id": "0dca4673",
   "metadata": {},
   "outputs": [],
   "source": [
    "#image 1\n",
    "grey_img = cv.imread(cv.samples.findFile(\"dataset/photo1.jpeg\"), cv.IMREAD_GRAYSCALE)\n",
    "#image 2\n",
    "grey_img2 = cv.imread(cv.samples.findFile(\"dataset/photo2.jpeg\"), cv.IMREAD_GRAYSCALE)\n",
    "#image 3\n",
    "grey_img3 = cv.imread(cv.samples.findFile(\"dataset/photo3.jpeg\"), cv.IMREAD_GRAYSCALE)\n",
    "#image 4\n",
    "grey_img4 = cv.imread(cv.samples.findFile(\"dataset/photo4.jpeg\"), cv.IMREAD_GRAYSCALE)"
   ]
  },
  {
   "cell_type": "code",
   "execution_count": 86,
   "id": "dbc0a039",
   "metadata": {},
   "outputs": [],
   "source": [
    "coeff = pywt.dwt2(grey_img, 'bior1.3')\n",
    "LL, (LH, HL, HH) = coeff\n",
    "coeff2 = pywt.dwt2(grey_img2, 'bior1.3')\n",
    "LL2, (LH2, HL2, HH2) = coeff2\n",
    "coeff3 = pywt.dwt2(grey_img3, 'bior1.3')\n",
    "LL3, (LH3, HL3, HH3) = coeff3\n",
    "coeff4 = pywt.dwt2(grey_img4, 'bior1.3')\n",
    "LL4, (LH4, HL4, HH4) = coeff4"
   ]
  },
  {
   "cell_type": "code",
   "execution_count": 84,
   "id": "2bca9a46",
   "metadata": {},
   "outputs": [],
   "source": [
    "titles = ['Approximation', ' Horizontal detail','Vertical detail', 'Diagonal detail']"
   ]
  },
  {
   "cell_type": "code",
   "execution_count": 27,
   "id": "4c8b4d33",
   "metadata": {},
   "outputs": [
    {
     "data": {
      "text/plain": [
       "(-0.5, 481.5, 641.5, -0.5)"
      ]
     },
     "execution_count": 27,
     "metadata": {},
     "output_type": "execute_result"
    },
    {
     "data": {
      "image/png": "[encoded data removed]",
      "text/plain": [
       "<Figure size 864x216 with 4 Axes>"
      ]
     },
     "metadata": {
      "needs_background": "light"
     },
     "output_type": "display_data"
    }
   ],
   "source": [
    "images = [LL,LH,HL,HH]\n",
    "fig = plt.figure(figsize=(12, 3))\n",
    "#Approximation\n",
    "fig.add_subplot(1, 5, 1)\n",
    "plt.imshow(images[0], cmap='gray')\n",
    "plt.title(titles[0])\n",
    "plt.axis('off')\n",
    "\n",
    "#Horizontal detail\n",
    "fig.add_subplot(1, 5, 2)\n",
    "plt.imshow(images[1], cmap='gray')\n",
    "plt.title(titles[1])\n",
    "plt.axis('off')\n",
    "\n",
    "#Vertical detail\n",
    "fig.add_subplot(1, 5, 3)\n",
    "plt.imshow(images[2], cmap='gray')# Shows an image\n",
    "plt.title(titles[2])\n",
    "plt.axis('off')\n",
    "\n",
    "#Diagonal detail\n",
    "fig.add_subplot(1, 5, 4)\n",
    "plt.imshow(images[3], cmap='gray')# Shows an image\n",
    "plt.title(titles[3])\n",
    "plt.axis('off')"
   ]
  },
  {
   "cell_type": "code",
   "execution_count": 28,
   "id": "75ce2d2b",
   "metadata": {},
   "outputs": [
    {
     "data": {
      "text/plain": [
       "(-0.5, 481.5, 641.5, -0.5)"
      ]
     },
     "execution_count": 28,
     "metadata": {},
     "output_type": "execute_result"
    },
    {
     "data": {
      "image/png": "[encoded data removed]",
      "text/plain": [
       "<Figure size 864x216 with 4 Axes>"
      ]
     },
     "metadata": {
      "needs_background": "light"
     },
     "output_type": "display_data"
    }
   ],
   "source": [
    "images2 = [LL2,LH2,HL2,HH2]\n",
    "fig = plt.figure(figsize=(12, 3))\n",
    "#Approximation\n",
    "fig.add_subplot(1, 5, 1)\n",
    "plt.imshow(images2[0], cmap='gray')\n",
    "plt.title(titles[0])\n",
    "plt.axis('off')\n",
    "\n",
    "#Horizontal detail\n",
    "fig.add_subplot(1, 5, 2)\n",
    "plt.imshow(images2[1], cmap='gray')\n",
    "plt.title(titles[1])\n",
    "plt.axis('off')\n",
    "\n",
    "#Vertical detail\n",
    "fig.add_subplot(1, 5, 3)\n",
    "plt.imshow(images2[2], cmap='gray')# Shows an image\n",
    "plt.title(titles[2])\n",
    "plt.axis('off')\n",
    "\n",
    "#Diagonal detail\n",
    "fig.add_subplot(1, 5, 4)\n",
    "plt.imshow(images2[3], cmap='gray')# Shows an image\n",
    "plt.title(titles[3])\n",
    "plt.axis('off')"
   ]
  },
  {
   "cell_type": "code",
   "execution_count": 29,
   "id": "0ffd2c91",
   "metadata": {},
   "outputs": [
    {
     "data": {
      "text/plain": [
       "(-0.5, 481.5, 641.5, -0.5)"
      ]
     },
     "execution_count": 29,
     "metadata": {},
     "output_type": "execute_result"
    },
    {
     "data": {
      "image/png": "[encoded data removed]",
      "text/plain": [
       "<Figure size 864x216 with 4 Axes>"
      ]
     },
     "metadata": {
      "needs_background": "light"
     },
     "output_type": "display_data"
    }
   ],
   "source": [
    "images3 = [LL3,LH3,HL3,HH3]\n",
    "fig = plt.figure(figsize=(12, 3))\n",
    "#Approximation\n",
    "fig.add_subplot(1, 5, 1)\n",
    "plt.imshow(images3[0], cmap='gray')\n",
    "plt.title(titles[0])\n",
    "plt.axis('off')\n",
    "\n",
    "#Horizontal detail\n",
    "fig.add_subplot(1, 5, 2)\n",
    "plt.imshow(images3[1], cmap='gray')\n",
    "plt.title(titles[1])\n",
    "plt.axis('off')\n",
    "\n",
    "#Vertical detail\n",
    "fig.add_subplot(1, 5, 3)\n",
    "plt.imshow(images3[2], cmap='gray')# Shows an image\n",
    "plt.title(titles[2])\n",
    "plt.axis('off')\n",
    "\n",
    "#Diagonal detail\n",
    "fig.add_subplot(1, 5, 4)\n",
    "plt.imshow(images3[3], cmap='gray')# Shows an image\n",
    "plt.title(titles[3])\n",
    "plt.axis('off')"
   ]
  },
  {
   "cell_type": "code",
   "execution_count": 87,
   "id": "21488cdd",
   "metadata": {},
   "outputs": [
    {
     "data": {
      "text/plain": [
       "(-0.5, 481.5, 641.5, -0.5)"
      ]
     },
     "execution_count": 87,
     "metadata": {},
     "output_type": "execute_result"
    },
    {
     "data": {
      "image/png": "[encoded data removed]",
      "text/plain": [
       "<Figure size 864x216 with 4 Axes>"
      ]
     },
     "metadata": {
      "needs_background": "light"
     },
     "output_type": "display_data"
    }
   ],
   "source": [
    "images4 = [LL4,LH4,HL4,HH4]\n",
    "fig = plt.figure(figsize=(12, 3))\n",
    "#Approximation\n",
    "fig.add_subplot(1, 5, 1)\n",
    "plt.imshow(images4[0], cmap='gray')\n",
    "plt.title(titles[0])\n",
    "plt.axis('off')\n",
    "\n",
    "#Horizontal detail\n",
    "fig.add_subplot(1, 5, 2)\n",
    "plt.imshow(images4[1], cmap='gray')\n",
    "plt.title(titles[1])\n",
    "plt.axis('off')\n",
    "\n",
    "#Vertical detail\n",
    "fig.add_subplot(1, 5, 3)\n",
    "plt.imshow(images4[2], cmap='gray')# Shows an image\n",
    "plt.title(titles[2])\n",
    "plt.axis('off')\n",
    "\n",
    "#Diagonal detail\n",
    "fig.add_subplot(1, 5, 4)\n",
    "plt.imshow(images4[3], cmap='gray')# Shows an image\n",
    "plt.title(titles[3])\n",
    "plt.axis('off')"
   ]
  },
  {
   "cell_type": "code",
   "execution_count": 14,
   "id": "1a412913",
   "metadata": {},
   "outputs": [],
   "source": [
    "#https://pywavelets.readthedocs.io/en/latest/"
   ]
  }
 ],
 "metadata": {
  "kernelspec": {
   "display_name": "Python 3 (ipykernel)",
   "language": "python",
   "name": "python3"
  },
  "language_info": {
   "codemirror_mode": {
    "name": "ipython",
    "version": 3
   },
   "file_extension": ".py",
   "mimetype": "text/x-python",
   "name": "python",
   "nbconvert_exporter": "python",
   "pygments_lexer": "ipython3",
   "version": "3.10.4"
  }
 },
 "nbformat": 4,
 "nbformat_minor": 5
}
