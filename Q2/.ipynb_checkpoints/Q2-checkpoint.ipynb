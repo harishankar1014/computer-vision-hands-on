{
 "cells": [
  {
   "cell_type": "code",
   "execution_count": 1,
   "id": "cd32156f",
   "metadata": {},
   "outputs": [],
   "source": [
    "#Edge detection \n",
    "import cv2"
   ]
  },
  {
   "cell_type": "code",
   "execution_count": 2,
   "id": "bb1169d8",
   "metadata": {},
   "outputs": [
    {
     "data": {
      "text/plain": [
       "-1"
      ]
     },
     "execution_count": 2,
     "metadata": {},
     "output_type": "execute_result"
    }
   ],
   "source": [
    "img = cv2.imread(\"dataset/photo1.jpeg\")\n",
    "img2 = cv2.imread(\"dataset/photo2.jpeg\")\n",
    "img3 = cv2.imread(\"dataset/photo3.jpeg\")\n",
    "cv2.imshow('Original',img)\n",
    "cv2.waitKey(0)\n",
    "cv2.imshow('Original',img2)\n",
    "cv2.waitKey(0)\n",
    "cv2.imshow('Original',img3)\n",
    "cv2.waitKey(0)"
   ]
  },
  {
   "cell_type": "code",
   "execution_count": 3,
   "id": "43ecb54b",
   "metadata": {},
   "outputs": [],
   "source": [
    "#image 1 gray scale and blur\n",
    "img_gray = cv2.cvtColor(img,cv2.COLOR_BGR2GRAY)\n",
    "img_blur = cv2.GaussianBlur(img_gray,(3,3),0)\n",
    "\n",
    "#image 2 gray scale and blur\n",
    "img_gray2 = cv2.cvtColor(img2,cv2.COLOR_BGR2GRAY)\n",
    "img_blur2 = cv2.GaussianBlur(img_gray2,(3,3),0)\n",
    "\n",
    "#image 3 gray scale and blur\n",
    "img_gray3 = cv2.cvtColor(img3,cv2.COLOR_BGR2GRAY)\n",
    "img_blur3 = cv2.GaussianBlur(img_gray3,(3,3),0)"
   ]
  },
  {
   "cell_type": "code",
   "execution_count": 4,
   "id": "7fd96798",
   "metadata": {},
   "outputs": [
    {
     "data": {
      "text/plain": [
       "-1"
      ]
     },
     "execution_count": 4,
     "metadata": {},
     "output_type": "execute_result"
    }
   ],
   "source": [
    "cv2.imshow('Gray',img_gray)\n",
    "cv2.waitKey(0)"
   ]
  },
  {
   "cell_type": "code",
   "execution_count": 5,
   "id": "1dcf5ee1",
   "metadata": {},
   "outputs": [
    {
     "data": {
      "text/plain": [
       "-1"
      ]
     },
     "execution_count": 5,
     "metadata": {},
     "output_type": "execute_result"
    }
   ],
   "source": [
    "cv2.imshow('Blur',img_blur)\n",
    "cv2.waitKey(0)"
   ]
  },
  {
   "cell_type": "code",
   "execution_count": 6,
   "id": "19f3d87e",
   "metadata": {},
   "outputs": [],
   "source": [
    "#Sobel edge detection image 1\n",
    "sobelx = cv2.Sobel(src=img_blur, ddepth=cv2.CV_64F, dx=1, dy=0, ksize=5)\n",
    "sobely = cv2.Sobel(src=img_blur, ddepth=cv2.CV_64F, dx=0, dy=1, ksize=5)\n",
    "sobelxy = cv2.Sobel(src=img_blur, ddepth=cv2.CV_64F, dx=1, dy=1, ksize=5)"
   ]
  },
  {
   "cell_type": "code",
   "execution_count": 7,
   "id": "21b81066",
   "metadata": {},
   "outputs": [],
   "source": [
    "#Sobel edge detection image 2\n",
    "sobelx2 = cv2.Sobel(src=img_blur2, ddepth=cv2.CV_64F, dx=1, dy=0, ksize=5)\n",
    "sobely2 = cv2.Sobel(src=img_blur2, ddepth=cv2.CV_64F, dx=0, dy=1, ksize=5)\n",
    "sobelxy2 = cv2.Sobel(src=img_blur2, ddepth=cv2.CV_64F, dx=1, dy=1, ksize=5)"
   ]
  },
  {
   "cell_type": "code",
   "execution_count": 8,
   "id": "4c3ddc52",
   "metadata": {},
   "outputs": [],
   "source": [
    "#Sobel edge detection image 3\n",
    "sobelx3 = cv2.Sobel(src=img_blur3, ddepth=cv2.CV_64F, dx=1, dy=0, ksize=5)\n",
    "sobely3 = cv2.Sobel(src=img_blur3, ddepth=cv2.CV_64F, dx=0, dy=1, ksize=5)\n",
    "sobelxy3 = cv2.Sobel(src=img_blur3, ddepth=cv2.CV_64F, dx=1, dy=1, ksize=5)"
   ]
  },
  {
   "cell_type": "code",
   "execution_count": 9,
   "id": "7074ff8a",
   "metadata": {},
   "outputs": [
    {
     "data": {
      "text/plain": [
       "-1"
      ]
     },
     "execution_count": 9,
     "metadata": {},
     "output_type": "execute_result"
    }
   ],
   "source": [
    "#Sobel X image 1\n",
    "cv2.imshow('Sobel X', sobelx)\n",
    "cv2.waitKey(0)"
   ]
  },
  {
   "cell_type": "code",
   "execution_count": 10,
   "id": "133a5d84",
   "metadata": {},
   "outputs": [
    {
     "data": {
      "text/plain": [
       "-1"
      ]
     },
     "execution_count": 10,
     "metadata": {},
     "output_type": "execute_result"
    }
   ],
   "source": [
    "#Sobel Y image 1\n",
    "cv2.imshow('Sobel Y', sobely)\n",
    "cv2.waitKey(0)"
   ]
  },
  {
   "cell_type": "code",
   "execution_count": 11,
   "id": "d287d2ae",
   "metadata": {},
   "outputs": [
    {
     "data": {
      "text/plain": [
       "-1"
      ]
     },
     "execution_count": 11,
     "metadata": {},
     "output_type": "execute_result"
    }
   ],
   "source": [
    "#Sobel XY image 1 \n",
    "cv2.imshow('Sobel X Y', sobelxy)\n",
    "cv2.waitKey(0)"
   ]
  },
  {
   "cell_type": "code",
   "execution_count": 12,
   "id": "aa66eff4",
   "metadata": {},
   "outputs": [
    {
     "data": {
      "text/plain": [
       "-1"
      ]
     },
     "execution_count": 12,
     "metadata": {},
     "output_type": "execute_result"
    }
   ],
   "source": [
    "#Sobel X image 2\n",
    "cv2.imshow('Sobel X', sobelx2)\n",
    "cv2.waitKey(0)"
   ]
  },
  {
   "cell_type": "code",
   "execution_count": 13,
   "id": "271ca308",
   "metadata": {},
   "outputs": [
    {
     "data": {
      "text/plain": [
       "-1"
      ]
     },
     "execution_count": 13,
     "metadata": {},
     "output_type": "execute_result"
    }
   ],
   "source": [
    "#Sobel Y image 2\n",
    "cv2.imshow('Sobel Y', sobely2)\n",
    "cv2.waitKey(0)"
   ]
  },
  {
   "cell_type": "code",
   "execution_count": 14,
   "id": "db15fa2c",
   "metadata": {},
   "outputs": [
    {
     "data": {
      "text/plain": [
       "-1"
      ]
     },
     "execution_count": 14,
     "metadata": {},
     "output_type": "execute_result"
    }
   ],
   "source": [
    "#Sobel XY image 2 \n",
    "cv2.imshow('Sobel X Y', sobelxy2)\n",
    "cv2.waitKey(0)"
   ]
  },
  {
   "cell_type": "code",
   "execution_count": 15,
   "id": "4bb0ac89",
   "metadata": {},
   "outputs": [
    {
     "data": {
      "text/plain": [
       "-1"
      ]
     },
     "execution_count": 15,
     "metadata": {},
     "output_type": "execute_result"
    }
   ],
   "source": [
    "#Sobel X image 3\n",
    "cv2.imshow('Sobel X', sobelx3)\n",
    "cv2.waitKey(0)"
   ]
  },
  {
   "cell_type": "code",
   "execution_count": 16,
   "id": "d5f374ca",
   "metadata": {},
   "outputs": [
    {
     "data": {
      "text/plain": [
       "-1"
      ]
     },
     "execution_count": 16,
     "metadata": {},
     "output_type": "execute_result"
    }
   ],
   "source": [
    "#Sobel Y image 3\n",
    "cv2.imshow('Sobel Y', sobely3)\n",
    "cv2.waitKey(0)"
   ]
  },
  {
   "cell_type": "code",
   "execution_count": 48,
   "id": "ca4707f5",
   "metadata": {},
   "outputs": [
    {
     "data": {
      "text/plain": [
       "-1"
      ]
     },
     "execution_count": 48,
     "metadata": {},
     "output_type": "execute_result"
    }
   ],
   "source": [
    "#Sobel XY image 2 \n",
    "cv2.imshow('Sobel X Y', sobelxy3)\n",
    "cv2.waitKey(0)"
   ]
  },
  {
   "cell_type": "code",
   "execution_count": 50,
   "id": "2d4ea581",
   "metadata": {},
   "outputs": [],
   "source": [
    "#Canny edge detection\n",
    "#image 1 edge detection\n",
    "edges = cv2.Canny(image=img_blur, threshold1=100, threshold2=200)\n",
    "#image 2 edge detection\n",
    "edges2 = cv2.Canny(image=img_blur2, threshold1=100, threshold2=200)\n",
    "#image 3 edge detection\n",
    "edges3 = cv2.Canny(image=img_blur3, threshold1=100, threshold2=200)"
   ]
  },
  {
   "cell_type": "code",
   "execution_count": 20,
   "id": "a5491844",
   "metadata": {},
   "outputs": [],
   "source": [
    "#test\n",
    "# edges = cv2.Canny(image=img, threshold1=100, threshold2=200)"
   ]
  },
  {
   "cell_type": "code",
   "execution_count": 51,
   "id": "e62d5630",
   "metadata": {},
   "outputs": [
    {
     "data": {
      "text/plain": [
       "-1"
      ]
     },
     "execution_count": 51,
     "metadata": {},
     "output_type": "execute_result"
    }
   ],
   "source": [
    "#image 1 edge detection\n",
    "cv2.imshow('Canny Edge Detection', edges)\n",
    "cv2.waitKey(0)"
   ]
  },
  {
   "cell_type": "code",
   "execution_count": 52,
   "id": "36138d39",
   "metadata": {},
   "outputs": [
    {
     "data": {
      "text/plain": [
       "-1"
      ]
     },
     "execution_count": 52,
     "metadata": {},
     "output_type": "execute_result"
    }
   ],
   "source": [
    "#image 2 edge detection\n",
    "cv2.imshow('Canny Edge Detection', edges2)\n",
    "cv2.waitKey(0)"
   ]
  },
  {
   "cell_type": "code",
   "execution_count": 53,
   "id": "138a3ca3",
   "metadata": {},
   "outputs": [
    {
     "data": {
      "text/plain": [
       "-1"
      ]
     },
     "execution_count": 53,
     "metadata": {},
     "output_type": "execute_result"
    }
   ],
   "source": [
    "#image 3 edge detection\n",
    "cv2.imshow('Canny Edge Detection', edges3)\n",
    "cv2.waitKey(0)"
   ]
  },
  {
   "cell_type": "code",
   "execution_count": 19,
   "id": "ae54c637",
   "metadata": {},
   "outputs": [],
   "source": [
    "cv2.destroyAllWindows()"
   ]
  },
  {
   "cell_type": "code",
   "execution_count": null,
   "id": "b87bb9a1",
   "metadata": {},
   "outputs": [],
   "source": [
    "#Reference = https://learnopencv.com/edge-detection-using-opencv/"
   ]
  },
  {
   "cell_type": "code",
   "execution_count": null,
   "id": "85015728",
   "metadata": {},
   "outputs": [],
   "source": []
  },
  {
   "cell_type": "code",
   "execution_count": 58,
   "id": "52d699b0",
   "metadata": {},
   "outputs": [],
   "source": [
    "#Corner detection \n",
    "import numpy as np\n",
    "import cv2 as cv"
   ]
  },
  {
   "cell_type": "code",
   "execution_count": 59,
   "id": "fe0e6812",
   "metadata": {},
   "outputs": [],
   "source": [
    "img = cv.imread(\"dataset/photo1.jpeg\")\n",
    "img2 = cv.imread(\"dataset/photo2.jpeg\")\n",
    "img3 = cv.imread(\"dataset/photo3.jpeg\")\n",
    "gray = cv.cvtColor(img,cv.COLOR_BGR2GRAY)\n",
    "gray2 = cv.cvtColor(img2,cv.COLOR_BGR2GRAY)\n",
    "gray3 = cv.cvtColor(img3,cv.COLOR_BGR2GRAY)"
   ]
  },
  {
   "cell_type": "code",
   "execution_count": 55,
   "id": "0873aa30",
   "metadata": {},
   "outputs": [
    {
     "data": {
      "text/plain": [
       "array([[195, 195, 195, ..., 142, 144, 146],\n",
       "       [195, 195, 195, ..., 143, 145, 146],\n",
       "       [195, 195, 195, ..., 144, 145, 146],\n",
       "       ...,\n",
       "       [ 56,  55,  53, ..., 114, 114, 114],\n",
       "       [ 55,  53,  51, ..., 112, 112, 112],\n",
       "       [ 54,  52,  50, ..., 111, 111, 111]], dtype=uint8)"
      ]
     },
     "execution_count": 55,
     "metadata": {},
     "output_type": "execute_result"
    }
   ],
   "source": [
    "gray"
   ]
  },
  {
   "cell_type": "code",
   "execution_count": 60,
   "id": "66629621",
   "metadata": {},
   "outputs": [],
   "source": [
    "# gray = np.float32(gray)\n",
    "dst = cv.cornerHarris(gray,2,3,0.04)\n",
    "dst2 = cv.cornerHarris(gray2,2,3,0.04)\n",
    "dst3 = cv.cornerHarris(gray3,2,3,0.04)"
   ]
  },
  {
   "cell_type": "code",
   "execution_count": 61,
   "id": "2257f194",
   "metadata": {},
   "outputs": [],
   "source": [
    "dst = cv.dilate(dst,None)\n",
    "img[dst>0.01*dst.max()]=[0,0,255]\n",
    "\n",
    "dst2 = cv.dilate(dst2,None)\n",
    "img2[dst2>0.01*dst2.max()]=[0,0,255]\n",
    "\n",
    "dst3 = cv.dilate(dst3,None)\n",
    "img3[dst3>0.01*dst3.max()]=[0,0,255]"
   ]
  },
  {
   "cell_type": "code",
   "execution_count": 62,
   "id": "ae6d7f74",
   "metadata": {},
   "outputs": [],
   "source": [
    "cv.imshow('dst',img)\n",
    "if cv.waitKey(0) & 0xff == 27:\n",
    "    cv.destroyAllWindows()"
   ]
  },
  {
   "cell_type": "code",
   "execution_count": 63,
   "id": "6cbbd036",
   "metadata": {},
   "outputs": [],
   "source": [
    "cv.imshow('dst 2',img2)\n",
    "if cv.waitKey(0) & 0xff == 27:\n",
    "    cv.destroyAllWindows()"
   ]
  },
  {
   "cell_type": "code",
   "execution_count": 64,
   "id": "67002f1f",
   "metadata": {},
   "outputs": [],
   "source": [
    "cv.imshow('dst 3',img3)\n",
    "if cv.waitKey(0) & 0xff == 27:\n",
    "    cv.destroyAllWindows()"
   ]
  },
  {
   "cell_type": "code",
   "execution_count": null,
   "id": "3989b0da",
   "metadata": {},
   "outputs": [],
   "source": [
    "#Reference : https://docs.opencv.org/3.4/dc/d0d/tutorial_py_features_harris.html"
   ]
  },
  {
   "cell_type": "code",
   "execution_count": null,
   "id": "eb8e3613",
   "metadata": {},
   "outputs": [],
   "source": []
  },
  {
   "cell_type": "code",
   "execution_count": 17,
   "id": "a4c137c6",
   "metadata": {},
   "outputs": [],
   "source": [
    "#Line detection\n",
    "import sys\n",
    "import math\n",
    "import cv2 as cv\n",
    "import numpy as np"
   ]
  },
  {
   "cell_type": "code",
   "execution_count": 18,
   "id": "3cac6e43",
   "metadata": {},
   "outputs": [],
   "source": [
    "#image 1\n",
    "src = cv.imread(cv.samples.findFile(\"dataset/photo1.jpeg\"), cv.IMREAD_GRAYSCALE)\n",
    "dst = cv.Canny(src, 50, 200, None, 3)\n",
    "\n",
    "#image 2\n",
    "src2 = cv.imread(cv.samples.findFile(\"dataset/photo2.jpeg\"), cv.IMREAD_GRAYSCALE)\n",
    "dst2 = cv.Canny(src2, 50, 200, None, 3)\n",
    "\n",
    "#image 3\n",
    "src3 = cv.imread(cv.samples.findFile(\"dataset/photo3.jpeg\"), cv.IMREAD_GRAYSCALE)\n",
    "dst3 = cv.Canny(src3, 50, 200, None, 3)"
   ]
  },
  {
   "cell_type": "code",
   "execution_count": 19,
   "id": "ba6765d8",
   "metadata": {},
   "outputs": [],
   "source": [
    "cdst = cv.cvtColor(dst, cv.COLOR_GRAY2BGR)\n",
    "cdstP = np.copy(cdst)\n",
    "\n",
    "cdst2 = cv.cvtColor(dst2, cv.COLOR_GRAY2BGR)\n",
    "cdstP2 = np.copy(cdst2)\n",
    "\n",
    "cdst3 = cv.cvtColor(dst3, cv.COLOR_GRAY2BGR)\n",
    "cdstP3 = np.copy(cdst3)"
   ]
  },
  {
   "cell_type": "code",
   "execution_count": 20,
   "id": "10c1f6ac",
   "metadata": {},
   "outputs": [],
   "source": [
    "lines = cv.HoughLines(dst, 1, np.pi / 180, 150, None, 0, 0)\n",
    "lines2 = cv.HoughLines(dst2, 1, np.pi / 180, 150, None, 0, 0)\n",
    "lines3 = cv.HoughLines(dst3, 1, np.pi / 180, 150, None, 0, 0)"
   ]
  },
  {
   "cell_type": "code",
   "execution_count": 21,
   "id": "000312c4",
   "metadata": {},
   "outputs": [
    {
     "data": {
      "text/plain": [
       "array([[[ 7.8700000e+02,  1.5358897e+00]],\n",
       "\n",
       "       [[ 6.1000000e+02,  3.4906585e-02]],\n",
       "\n",
       "       [[ 3.2900000e+02,  1.5533431e+00]],\n",
       "\n",
       "       [[ 3.1400000e+02,  1.5707964e+00]],\n",
       "\n",
       "       [[ 6.0500000e+02,  1.5707964e+00]],\n",
       "\n",
       "       [[ 6.0100000e+02,  1.7453292e-02]],\n",
       "\n",
       "       [[-7.9000000e+01,  2.9670596e+00]],\n",
       "\n",
       "       [[ 6.6000000e+02,  1.0297443e+00]],\n",
       "\n",
       "       [[-3.5500000e+02,  3.0892327e+00]]], dtype=float32)"
      ]
     },
     "execution_count": 21,
     "metadata": {},
     "output_type": "execute_result"
    }
   ],
   "source": [
    "lines"
   ]
  },
  {
   "cell_type": "code",
   "execution_count": 22,
   "id": "027c314a",
   "metadata": {},
   "outputs": [
    {
     "data": {
      "text/plain": [
       "-1"
      ]
     },
     "execution_count": 22,
     "metadata": {},
     "output_type": "execute_result"
    }
   ],
   "source": [
    "if lines is not None:\n",
    "        for i in range(0, len(lines)):\n",
    "            rho = lines[i][0][0]\n",
    "            theta = lines[i][0][1]\n",
    "            a = math.cos(theta)\n",
    "            b = math.sin(theta)\n",
    "            x0 = a * rho\n",
    "            y0 = b * rho\n",
    "            pt1 = (int(x0 + 1000*(-b)), int(y0 + 1000*(a))) # rcosth - sinth, rsinth + costh\n",
    "            pt2 = (int(x0 - 1000*(-b)), int(y0 - 1000*(a))) # rcosth + sinth, rsinth - costh\n",
    "            cv.line(cdst, pt1, pt2, (0,0,255), 3, cv.LINE_AA)\n",
    "            \n",
    "linesP = cv.HoughLinesP(dst, 1, np.pi / 180, 50, None, 50, 10)\n",
    "\n",
    "if linesP is not None:\n",
    "        for i in range(0, len(linesP)):\n",
    "            l = linesP[i][0]\n",
    "            cv.line(cdstP, (l[0], l[1]), (l[2], l[3]), (0,0,255), 3, cv.LINE_AA)\n",
    "            \n",
    "cv.imshow(\"Source\", src)\n",
    "cv.imshow(\"Detected Lines (in red) - Standard Hough Line Transform\", cdst)\n",
    "cv.imshow(\"Detected Lines (in red) - Probabilistic Line Transform\", cdstP)\n",
    "cv.waitKey(0)"
   ]
  },
  {
   "cell_type": "code",
   "execution_count": null,
   "id": "86d09cfe",
   "metadata": {},
   "outputs": [],
   "source": [
    "if lines2 is not None:\n",
    "        for i in range(0, len(lines2)):\n",
    "            rho = lines2[i][0][0]\n",
    "            theta = lines2[i][0][1]\n",
    "            a = math.cos(theta)\n",
    "            b = math.sin(theta)\n",
    "            x0 = a * rho\n",
    "            y0 = b * rho\n",
    "            pt1 = (int(x0 + 1000*(-b)), int(y0 + 1000*(a)))\n",
    "            pt2 = (int(x0 - 1000*(-b)), int(y0 - 1000*(a)))\n",
    "            cv.line(cdst2, pt1, pt2, (0,0,255), 3, cv.LINE_AA)\n",
    "            \n",
    "linesP = cv.HoughLinesP(dst2, 1, np.pi / 180, 50, None, 50, 10)\n",
    "\n",
    "if linesP is not None:\n",
    "        for i in range(0, len(linesP)):\n",
    "            l = linesP[i][0]\n",
    "            cv.line(cdstP2, (l[0], l[1]), (l[2], l[3]), (0,0,255), 3, cv.LINE_AA)\n",
    "            \n",
    "cv.imshow(\"Source\", src2)\n",
    "cv.imshow(\"Detected Lines (in red) - Standard Hough Line Transform\", cdst2)\n",
    "cv.imshow(\"Detected Lines (in red) - Probabilistic Line Transform\", cdstP2)\n",
    "cv.waitKey(0)"
   ]
  },
  {
   "cell_type": "code",
   "execution_count": 23,
   "id": "0e6b92f9",
   "metadata": {},
   "outputs": [
    {
     "data": {
      "text/plain": [
       "array([[[577, 960, 584, 751]],\n",
       "\n",
       "       [[149, 782, 287, 778]],\n",
       "\n",
       "       [[871, 314, 928, 313]],\n",
       "\n",
       "       [[186, 601, 218, 779]],\n",
       "\n",
       "       [[689, 314, 854, 314]],\n",
       "\n",
       "       [[823, 595, 946, 595]],\n",
       "\n",
       "       [[887, 605, 940, 605]],\n",
       "\n",
       "       [[336, 329, 406, 329]],\n",
       "\n",
       "       [[378,  86, 503,  86]],\n",
       "\n",
       "       [[380, 458, 390, 658]],\n",
       "\n",
       "       [[607, 570, 737, 570]],\n",
       "\n",
       "       [[841, 762, 955, 759]],\n",
       "\n",
       "       [[186, 611, 320, 611]],\n",
       "\n",
       "       [[ 37, 747, 193, 653]],\n",
       "\n",
       "       [[  0, 770, 159, 674]],\n",
       "\n",
       "       [[592, 543, 734, 543]],\n",
       "\n",
       "       [[591, 542, 593, 458]],\n",
       "\n",
       "       [[855, 410, 959, 410]],\n",
       "\n",
       "       [[225, 313, 288, 315]],\n",
       "\n",
       "       [[612, 315, 668, 315]],\n",
       "\n",
       "       [[880, 568, 959, 567]],\n",
       "\n",
       "       [[597, 549, 744, 549]],\n",
       "\n",
       "       [[156, 197, 165, 315]],\n",
       "\n",
       "       [[152, 154, 210, 229]],\n",
       "\n",
       "       [[709, 605, 761, 605]],\n",
       "\n",
       "       [[763, 528, 773, 411]],\n",
       "\n",
       "       [[534, 107, 591, 107]],\n",
       "\n",
       "       [[647, 767, 713, 766]],\n",
       "\n",
       "       [[568, 333, 633, 332]],\n",
       "\n",
       "       [[673, 325, 733, 324]],\n",
       "\n",
       "       [[310, 524, 327, 644]],\n",
       "\n",
       "       [[647, 633, 726, 629]],\n",
       "\n",
       "       [[650, 318, 706, 318]],\n",
       "\n",
       "       [[415,  73, 418,   2]],\n",
       "\n",
       "       [[394,   9, 396,  66]],\n",
       "\n",
       "       [[401,   5, 402,  69]],\n",
       "\n",
       "       [[663, 553, 743, 553]],\n",
       "\n",
       "       [[ 45,  68, 124, 142]],\n",
       "\n",
       "       [[219, 642, 326, 642]],\n",
       "\n",
       "       [[774, 413, 857, 413]],\n",
       "\n",
       "       [[ 35, 308,  46, 253]],\n",
       "\n",
       "       [[892, 483, 959, 482]],\n",
       "\n",
       "       [[ 47,  78, 122, 146]],\n",
       "\n",
       "       [[800, 706, 880, 704]],\n",
       "\n",
       "       [[732, 594, 799, 594]],\n",
       "\n",
       "       [[ 48, 785, 121, 783]],\n",
       "\n",
       "       [[774, 411, 860, 411]],\n",
       "\n",
       "       [[ 49,  70, 126, 141]],\n",
       "\n",
       "       [[ 26,  69,  94, 137]],\n",
       "\n",
       "       [[587, 742, 589, 683]],\n",
       "\n",
       "       [[129, 258, 134, 312]],\n",
       "\n",
       "       [[308, 308, 319, 467]],\n",
       "\n",
       "       [[342, 389, 344, 450]],\n",
       "\n",
       "       [[229, 339, 240, 421]],\n",
       "\n",
       "       [[534, 110, 591, 110]],\n",
       "\n",
       "       [[819, 711, 881, 712]],\n",
       "\n",
       "       [[ 50, 270,  54, 215]],\n",
       "\n",
       "       [[386,  54, 469,  32]],\n",
       "\n",
       "       [[760, 529, 767, 462]],\n",
       "\n",
       "       [[215, 650, 302, 650]],\n",
       "\n",
       "       [[882, 111, 938, 111]],\n",
       "\n",
       "       [[ 38, 310,  47, 258]],\n",
       "\n",
       "       [[778, 605, 834, 605]],\n",
       "\n",
       "       [[114, 200, 124, 254]],\n",
       "\n",
       "       [[590, 604, 591, 673]],\n",
       "\n",
       "       [[413,  72, 415,   2]],\n",
       "\n",
       "       [[384,  51, 467,  28]],\n",
       "\n",
       "       [[392,  62, 392,  11]],\n",
       "\n",
       "       [[885, 563, 897, 477]],\n",
       "\n",
       "       [[604, 769, 609, 677]],\n",
       "\n",
       "       [[856, 710, 906, 704]],\n",
       "\n",
       "       [[411,  72, 412,   2]],\n",
       "\n",
       "       [[225, 316, 288, 316]],\n",
       "\n",
       "       [[382,  45, 464,  20]],\n",
       "\n",
       "       [[446,  69, 456,  11]],\n",
       "\n",
       "       [[457, 359, 511, 359]],\n",
       "\n",
       "       [[567, 345, 569, 289]],\n",
       "\n",
       "       [[421,  74, 425,   2]],\n",
       "\n",
       "       [[426,  74, 435,   1]],\n",
       "\n",
       "       [[406,  70, 406,   4]],\n",
       "\n",
       "       [[414,  73, 416,   2]],\n",
       "\n",
       "       [[418,  74, 420,   2]],\n",
       "\n",
       "       [[591, 636, 665, 632]],\n",
       "\n",
       "       [[231, 336, 244, 399]],\n",
       "\n",
       "       [[423,  74, 426,   2]],\n",
       "\n",
       "       [[714, 765, 793, 764]],\n",
       "\n",
       "       [[381,  42, 460,  15]],\n",
       "\n",
       "       [[ 37, 309,  47, 253]],\n",
       "\n",
       "       [[432,  73, 439,  17]],\n",
       "\n",
       "       [[283, 714, 288, 777]],\n",
       "\n",
       "       [[404,  70, 405,   4]],\n",
       "\n",
       "       [[417,  74, 419,   2]],\n",
       "\n",
       "       [[319, 776, 391, 775]],\n",
       "\n",
       "       [[407,  71, 407,   4]],\n",
       "\n",
       "       [[ 26,  47,  72, 100]],\n",
       "\n",
       "       [[620, 768, 622, 710]],\n",
       "\n",
       "       [[ 34, 306,  48, 240]],\n",
       "\n",
       "       [[208, 721, 218, 778]],\n",
       "\n",
       "       [[585, 769, 646, 768]],\n",
       "\n",
       "       [[184, 602, 271, 574]],\n",
       "\n",
       "       [[151, 134, 160, 259]],\n",
       "\n",
       "       [[843, 558, 851, 505]]], dtype=int32)"
      ]
     },
     "execution_count": 23,
     "metadata": {},
     "output_type": "execute_result"
    }
   ],
   "source": [
    "linesP"
   ]
  },
  {
   "cell_type": "code",
   "execution_count": 84,
   "id": "1d69a7f9",
   "metadata": {},
   "outputs": [
    {
     "data": {
      "text/plain": [
       "-1"
      ]
     },
     "execution_count": 84,
     "metadata": {},
     "output_type": "execute_result"
    }
   ],
   "source": [
    "if lines3 is not None:\n",
    "        for i in range(0, len(lines3)):\n",
    "            rho = lines3[i][0][0]\n",
    "            theta = lines3[i][0][1]\n",
    "            a = math.cos(theta)\n",
    "            b = math.sin(theta)\n",
    "            x0 = a * rho\n",
    "            y0 = b * rho\n",
    "            pt1 = (int(x0 + 1000*(-b)), int(y0 + 1000*(a)))\n",
    "            pt2 = (int(x0 - 1000*(-b)), int(y0 - 1000*(a)))\n",
    "            cv.line(cdst3, pt1, pt2, (0,0,255), 3, cv.LINE_AA)\n",
    "            \n",
    "linesP = cv.HoughLinesP(dst3, 1, np.pi / 180, 50, None, 50, 10)\n",
    "\n",
    "if linesP is not None:\n",
    "        for i in range(0, len(linesP)):\n",
    "            l = linesP[i][0]\n",
    "            cv.line(cdstP3, (l[0], l[1]), (l[2], l[3]), (0,0,255), 3, cv.LINE_AA)\n",
    "            \n",
    "cv.imshow(\"Source\", src3)\n",
    "cv.imshow(\"Detected Lines (in red) - Standard Hough Line Transform\", cdst3)\n",
    "cv.imshow(\"Detected Lines (in red) - Probabilistic Line Transform\", cdstP3)\n",
    "cv.waitKey(0)"
   ]
  },
  {
   "cell_type": "code",
   "execution_count": null,
   "id": "75782fea",
   "metadata": {},
   "outputs": [],
   "source": [
    "#reference: https://docs.opencv.org/3.4/d9/db0/tutorial_hough_lines.html"
   ]
  },
  {
   "cell_type": "code",
   "execution_count": null,
   "id": "e3ae62ee",
   "metadata": {},
   "outputs": [],
   "source": []
  },
  {
   "cell_type": "code",
   "execution_count": 1,
   "id": "973c5a50",
   "metadata": {},
   "outputs": [],
   "source": [
    "#Gabor filter\n",
    "import cv2\n",
    "import numpy as np\n",
    "from matplotlib import pyplot as plt"
   ]
  },
  {
   "cell_type": "code",
   "execution_count": 6,
   "id": "897518e5",
   "metadata": {},
   "outputs": [
    {
     "data": {
      "text/plain": [
       "-1"
      ]
     },
     "execution_count": 6,
     "metadata": {},
     "output_type": "execute_result"
    }
   ],
   "source": [
    "img = cv2.imread(\"dataset/photo1.jpeg\")\n",
    "cv2.imshow(\"Source\",myimage)\n",
    "cv2.waitKey(0)"
   ]
  },
  {
   "cell_type": "code",
   "execution_count": 18,
   "id": "a348a988",
   "metadata": {},
   "outputs": [],
   "source": [
    "def build_filters(_lambda,_orientation):\n",
    "    filters = []\n",
    "    ksize = 31\n",
    "#     for theta in np.arange(0, np.pi, np.pi / 16):\n",
    "#         kern = cv2.getGaborKernel((ksize, ksize), 4.0, theta, 10.0, 0.5, 0, ktype=cv2.CV_32F)\n",
    "    theta = np.radians(_orientation)\n",
    "    kern = cv2.getGaborKernel((ksize, ksize), 4.0, theta, _lambda, 0.5, 0, ktype=cv2.CV_32F)\n",
    "    kern /= 1.5*kern.sum()\n",
    "    filters.append(kern)\n",
    "    return filters"
   ]
  },
  {
   "cell_type": "code",
   "execution_count": 19,
   "id": "bc5ac4f5",
   "metadata": {},
   "outputs": [],
   "source": [
    "def process(img, filters):\n",
    "    accum = np.zeros_like(img)\n",
    "    for kern in filters:\n",
    "        fimg = cv2.filter2D(img, cv2.CV_8UC3, kern)\n",
    "        np.maximum(accum, fimg, accum)\n",
    "    return accum"
   ]
  },
  {
   "cell_type": "code",
   "execution_count": 20,
   "id": "4e242471",
   "metadata": {},
   "outputs": [],
   "source": [
    "filters20_0 = build_filters(20,0)\n",
    "res1 = process(img, filters20_0)\n",
    "cv2.imshow('result wavelength=20 , orientation=0', res1)\n",
    "cv2.waitKey(0)\n",
    "cv2.destroyAllWindows()"
   ]
  },
  {
   "cell_type": "code",
   "execution_count": 21,
   "id": "0233b128",
   "metadata": {},
   "outputs": [],
   "source": [
    "filters80_0 = build_filters(80,0)\n",
    "res1 = process(img, filters80_0)\n",
    "cv2.imshow('result wavelength=80 , orientation=0', res1)\n",
    "cv2.waitKey(0)\n",
    "cv2.destroyAllWindows()"
   ]
  },
  {
   "cell_type": "code",
   "execution_count": 22,
   "id": "62979148",
   "metadata": {},
   "outputs": [],
   "source": [
    "filters30_90 = build_filters(30,90)\n",
    "res1 = process(img, filters30_90)\n",
    "cv2.imshow('result wavelength=30 , orientation=90', res1)\n",
    "cv2.waitKey(0)\n",
    "cv2.destroyAllWindows()"
   ]
  },
  {
   "cell_type": "code",
   "execution_count": 23,
   "id": "d7dace4b",
   "metadata": {},
   "outputs": [],
   "source": [
    "filters10_150 = build_filters(10,150)\n",
    "res1 = process(img, filters10_150)\n",
    "cv2.imshow('result wavelength=10 , orientation=150', res1)\n",
    "cv2.waitKey(0)\n",
    "cv2.destroyAllWindows()"
   ]
  },
  {
   "cell_type": "code",
   "execution_count": null,
   "id": "e70a4457",
   "metadata": {},
   "outputs": [],
   "source": [
    "#reference https://cvtuts.wordpress.com/2014/04/27/gabor-filters-a-practical-overview/"
   ]
  },
  {
   "cell_type": "code",
   "execution_count": 28,
   "id": "8c4914c2",
   "metadata": {},
   "outputs": [
    {
     "name": "stdout",
     "output_type": "stream",
     "text": [
      "Collecting PyWavelets\n",
      "  Downloading PyWavelets-1.4.1-cp310-cp310-win_amd64.whl (4.2 MB)\n",
      "     ---------------------------------------- 4.2/4.2 MB 3.3 MB/s eta 0:00:00\n",
      "Requirement already satisfied: numpy>=1.17.3 in c:\\users\\murali\\appdata\\local\\programs\\python\\python310\\lib\\site-packages (from PyWavelets) (1.22.3)\n",
      "Installing collected packages: PyWavelets\n",
      "Successfully installed PyWavelets-1.4.1\n"
     ]
    },
    {
     "name": "stderr",
     "output_type": "stream",
     "text": [
      "WARNING: Ignoring invalid distribution -rotobuf (c:\\users\\murali\\appdata\\local\\programs\\python\\python310\\lib\\site-packages)\n",
      "WARNING: Ignoring invalid distribution -rotobuf (c:\\users\\murali\\appdata\\local\\programs\\python\\python310\\lib\\site-packages)\n",
      "WARNING: Ignoring invalid distribution -rotobuf (c:\\users\\murali\\appdata\\local\\programs\\python\\python310\\lib\\site-packages)\n",
      "WARNING: Ignoring invalid distribution -rotobuf (c:\\users\\murali\\appdata\\local\\programs\\python\\python310\\lib\\site-packages)\n",
      "WARNING: Ignoring invalid distribution -rotobuf (c:\\users\\murali\\appdata\\local\\programs\\python\\python310\\lib\\site-packages)\n",
      "WARNING: Ignoring invalid distribution -rotobuf (c:\\users\\murali\\appdata\\local\\programs\\python\\python310\\lib\\site-packages)\n",
      "WARNING: Ignoring invalid distribution -rotobuf (c:\\users\\murali\\appdata\\local\\programs\\python\\python310\\lib\\site-packages)\n",
      "\n",
      "[notice] A new release of pip available: 22.3.1 -> 23.0.1\n",
      "[notice] To update, run: python.exe -m pip install --upgrade pip\n"
     ]
    }
   ],
   "source": [
    "# !pip install pywt\n",
    "!pip install PyWavelets"
   ]
  },
  {
   "cell_type": "code",
   "execution_count": 29,
   "id": "fc062f7a",
   "metadata": {},
   "outputs": [],
   "source": [
    "#discrete wavelet transform\n",
    "import cv2\n",
    "import numpy as np\n",
    "import pywt"
   ]
  },
  {
   "cell_type": "code",
   "execution_count": 30,
   "id": "f6449810",
   "metadata": {},
   "outputs": [
    {
     "data": {
      "text/plain": [
       "array([[[209, 203, 174],\n",
       "        [209, 203, 174],\n",
       "        [209, 203, 174],\n",
       "        ...,\n",
       "        [161, 149, 121],\n",
       "        [163, 151, 123],\n",
       "        [165, 153, 125]],\n",
       "\n",
       "       [[209, 203, 174],\n",
       "        [209, 203, 174],\n",
       "        [209, 203, 174],\n",
       "        ...,\n",
       "        [162, 150, 122],\n",
       "        [164, 152, 124],\n",
       "        [165, 153, 125]],\n",
       "\n",
       "       [[209, 203, 174],\n",
       "        [209, 203, 174],\n",
       "        [209, 203, 174],\n",
       "        ...,\n",
       "        [163, 151, 123],\n",
       "        [164, 152, 124],\n",
       "        [165, 153, 125]],\n",
       "\n",
       "       ...,\n",
       "\n",
       "       [[ 26,  40,  98],\n",
       "        [ 25,  39,  97],\n",
       "        [ 23,  37,  95],\n",
       "        ...,\n",
       "        [ 64, 101, 157],\n",
       "        [ 64, 101, 157],\n",
       "        [ 64, 101, 157]],\n",
       "\n",
       "       [[ 25,  39,  97],\n",
       "        [ 23,  37,  95],\n",
       "        [ 21,  35,  93],\n",
       "        ...,\n",
       "        [ 62,  99, 155],\n",
       "        [ 62,  99, 155],\n",
       "        [ 62,  99, 155]],\n",
       "\n",
       "       [[ 24,  38,  96],\n",
       "        [ 22,  36,  94],\n",
       "        [ 20,  34,  92],\n",
       "        ...,\n",
       "        [ 61,  98, 154],\n",
       "        [ 61,  98, 154],\n",
       "        [ 61,  98, 154]]], dtype=uint8)"
      ]
     },
     "execution_count": 30,
     "metadata": {},
     "output_type": "execute_result"
    }
   ],
   "source": [
    "img = cv2.imread(\"dataset/photo1.jpeg\")\n",
    "img"
   ]
  },
  {
   "cell_type": "code",
   "execution_count": null,
   "id": "5d6a2d19",
   "metadata": {},
   "outputs": [],
   "source": [
    "data = pywt.dwt(img, 'db1')"
   ]
  },
  {
   "cell_type": "code",
   "execution_count": null,
   "id": "684f4778",
   "metadata": {},
   "outputs": [],
   "source": []
  }
 ],
 "metadata": {
  "kernelspec": {
   "display_name": "Python 3 (ipykernel)",
   "language": "python",
   "name": "python3"
  },
  "language_info": {
   "codemirror_mode": {
    "name": "ipython",
    "version": 3
   },
   "file_extension": ".py",
   "mimetype": "text/x-python",
   "name": "python",
   "nbconvert_exporter": "python",
   "pygments_lexer": "ipython3",
   "version": "3.10.4"
  }
 },
 "nbformat": 4,
 "nbformat_minor": 5
}
